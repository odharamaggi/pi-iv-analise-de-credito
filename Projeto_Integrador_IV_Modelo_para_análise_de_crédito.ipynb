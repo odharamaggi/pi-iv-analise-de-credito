{
  "cells": [
    {
      "cell_type": "markdown",
      "metadata": {
        "id": "view-in-github",
        "colab_type": "text"
      },
      "source": [
        "<a href=\"https://colab.research.google.com/github/odharamaggi/pi-iv-analise-de-credito/blob/main/Projeto_Integrador_IV_Modelo_para_an%C3%A1lise_de_cr%C3%A9dito.ipynb\" target=\"_parent\"><img src=\"https://colab.research.google.com/assets/colab-badge.svg\" alt=\"Open In Colab\"/></a>"
      ]
    },
    {
      "cell_type": "markdown",
      "metadata": {
        "id": "hfYbHgghOW5g"
      },
      "source": [
        "# Importação das bibliotecas"
      ]
    },
    {
      "cell_type": "code",
      "execution_count": null,
      "metadata": {
        "id": "nVP1Ah9dhd1F"
      },
      "outputs": [],
      "source": [
        "import pandas as pd\n",
        "import numpy as np\n",
        "import seaborn as sns\n",
        "import matplotlib.pyplot as plt"
      ]
    },
    {
      "cell_type": "markdown",
      "metadata": {
        "id": "d4GPkpRVTfq4"
      },
      "source": [
        "# Base de dados de crédito\n",
        "\n",
        "- Fonte (adaptado): https://www.kaggle.com/laotse/credit-risk-dataset"
      ]
    },
    {
      "cell_type": "code",
      "execution_count": null,
      "metadata": {
        "id": "2ikfKSdGINxr"
      },
      "outputs": [],
      "source": [
        "from google.colab import drive\n",
        "drive.mount('/content/drive')"
      ]
    },
    {
      "cell_type": "markdown",
      "metadata": {
        "id": "oCVRZFuyXPR9"
      },
      "source": [
        "### Exploração dos dados"
      ]
    },
    {
      "cell_type": "code",
      "execution_count": null,
      "metadata": {
        "id": "3PkyBwG_jPVQ"
      },
      "outputs": [],
      "source": [
        "base_credit = pd.read_csv('/content/credit_data.csv')"
      ]
    },
    {
      "cell_type": "code",
      "execution_count": null,
      "metadata": {
        "colab": {
          "base_uri": "https://localhost:8080/",
          "height": 423
        },
        "id": "BGT1Pt5UjuNG",
        "outputId": "6183831b-662f-4325-e29e-88f0d1f7353d"
      },
      "outputs": [
        {
          "output_type": "execute_result",
          "data": {
            "text/plain": [
              "      clientid       income        age         loan  default\n",
              "0            1  66155.92510  59.017015  8106.532131        0\n",
              "1            2  34415.15397  48.117153  6564.745018        0\n",
              "2            3  57317.17006  63.108049  8020.953296        0\n",
              "3            4  42709.53420  45.751972  6103.642260        0\n",
              "4            5  66952.68885  18.584336  8770.099235        1\n",
              "...        ...          ...        ...          ...      ...\n",
              "1995      1996  59221.04487  48.518179  1926.729397        0\n",
              "1996      1997  69516.12757  23.162104  3503.176156        0\n",
              "1997      1998  44311.44926  28.017167  5522.786693        1\n",
              "1998      1999  43756.05660  63.971796  1622.722598        0\n",
              "1999      2000  69436.57955  56.152617  7378.833599        0\n",
              "\n",
              "[2000 rows x 5 columns]"
            ],
            "text/html": [
              "\n",
              "  <div id=\"df-41a7f20a-ac13-4f47-a133-21043a91c465\">\n",
              "    <div class=\"colab-df-container\">\n",
              "      <div>\n",
              "<style scoped>\n",
              "    .dataframe tbody tr th:only-of-type {\n",
              "        vertical-align: middle;\n",
              "    }\n",
              "\n",
              "    .dataframe tbody tr th {\n",
              "        vertical-align: top;\n",
              "    }\n",
              "\n",
              "    .dataframe thead th {\n",
              "        text-align: right;\n",
              "    }\n",
              "</style>\n",
              "<table border=\"1\" class=\"dataframe\">\n",
              "  <thead>\n",
              "    <tr style=\"text-align: right;\">\n",
              "      <th></th>\n",
              "      <th>clientid</th>\n",
              "      <th>income</th>\n",
              "      <th>age</th>\n",
              "      <th>loan</th>\n",
              "      <th>default</th>\n",
              "    </tr>\n",
              "  </thead>\n",
              "  <tbody>\n",
              "    <tr>\n",
              "      <th>0</th>\n",
              "      <td>1</td>\n",
              "      <td>66155.92510</td>\n",
              "      <td>59.017015</td>\n",
              "      <td>8106.532131</td>\n",
              "      <td>0</td>\n",
              "    </tr>\n",
              "    <tr>\n",
              "      <th>1</th>\n",
              "      <td>2</td>\n",
              "      <td>34415.15397</td>\n",
              "      <td>48.117153</td>\n",
              "      <td>6564.745018</td>\n",
              "      <td>0</td>\n",
              "    </tr>\n",
              "    <tr>\n",
              "      <th>2</th>\n",
              "      <td>3</td>\n",
              "      <td>57317.17006</td>\n",
              "      <td>63.108049</td>\n",
              "      <td>8020.953296</td>\n",
              "      <td>0</td>\n",
              "    </tr>\n",
              "    <tr>\n",
              "      <th>3</th>\n",
              "      <td>4</td>\n",
              "      <td>42709.53420</td>\n",
              "      <td>45.751972</td>\n",
              "      <td>6103.642260</td>\n",
              "      <td>0</td>\n",
              "    </tr>\n",
              "    <tr>\n",
              "      <th>4</th>\n",
              "      <td>5</td>\n",
              "      <td>66952.68885</td>\n",
              "      <td>18.584336</td>\n",
              "      <td>8770.099235</td>\n",
              "      <td>1</td>\n",
              "    </tr>\n",
              "    <tr>\n",
              "      <th>...</th>\n",
              "      <td>...</td>\n",
              "      <td>...</td>\n",
              "      <td>...</td>\n",
              "      <td>...</td>\n",
              "      <td>...</td>\n",
              "    </tr>\n",
              "    <tr>\n",
              "      <th>1995</th>\n",
              "      <td>1996</td>\n",
              "      <td>59221.04487</td>\n",
              "      <td>48.518179</td>\n",
              "      <td>1926.729397</td>\n",
              "      <td>0</td>\n",
              "    </tr>\n",
              "    <tr>\n",
              "      <th>1996</th>\n",
              "      <td>1997</td>\n",
              "      <td>69516.12757</td>\n",
              "      <td>23.162104</td>\n",
              "      <td>3503.176156</td>\n",
              "      <td>0</td>\n",
              "    </tr>\n",
              "    <tr>\n",
              "      <th>1997</th>\n",
              "      <td>1998</td>\n",
              "      <td>44311.44926</td>\n",
              "      <td>28.017167</td>\n",
              "      <td>5522.786693</td>\n",
              "      <td>1</td>\n",
              "    </tr>\n",
              "    <tr>\n",
              "      <th>1998</th>\n",
              "      <td>1999</td>\n",
              "      <td>43756.05660</td>\n",
              "      <td>63.971796</td>\n",
              "      <td>1622.722598</td>\n",
              "      <td>0</td>\n",
              "    </tr>\n",
              "    <tr>\n",
              "      <th>1999</th>\n",
              "      <td>2000</td>\n",
              "      <td>69436.57955</td>\n",
              "      <td>56.152617</td>\n",
              "      <td>7378.833599</td>\n",
              "      <td>0</td>\n",
              "    </tr>\n",
              "  </tbody>\n",
              "</table>\n",
              "<p>2000 rows × 5 columns</p>\n",
              "</div>\n",
              "      <button class=\"colab-df-convert\" onclick=\"convertToInteractive('df-41a7f20a-ac13-4f47-a133-21043a91c465')\"\n",
              "              title=\"Convert this dataframe to an interactive table.\"\n",
              "              style=\"display:none;\">\n",
              "        \n",
              "  <svg xmlns=\"http://www.w3.org/2000/svg\" height=\"24px\"viewBox=\"0 0 24 24\"\n",
              "       width=\"24px\">\n",
              "    <path d=\"M0 0h24v24H0V0z\" fill=\"none\"/>\n",
              "    <path d=\"M18.56 5.44l.94 2.06.94-2.06 2.06-.94-2.06-.94-.94-2.06-.94 2.06-2.06.94zm-11 1L8.5 8.5l.94-2.06 2.06-.94-2.06-.94L8.5 2.5l-.94 2.06-2.06.94zm10 10l.94 2.06.94-2.06 2.06-.94-2.06-.94-.94-2.06-.94 2.06-2.06.94z\"/><path d=\"M17.41 7.96l-1.37-1.37c-.4-.4-.92-.59-1.43-.59-.52 0-1.04.2-1.43.59L10.3 9.45l-7.72 7.72c-.78.78-.78 2.05 0 2.83L4 21.41c.39.39.9.59 1.41.59.51 0 1.02-.2 1.41-.59l7.78-7.78 2.81-2.81c.8-.78.8-2.07 0-2.86zM5.41 20L4 18.59l7.72-7.72 1.47 1.35L5.41 20z\"/>\n",
              "  </svg>\n",
              "      </button>\n",
              "      \n",
              "  <style>\n",
              "    .colab-df-container {\n",
              "      display:flex;\n",
              "      flex-wrap:wrap;\n",
              "      gap: 12px;\n",
              "    }\n",
              "\n",
              "    .colab-df-convert {\n",
              "      background-color: #E8F0FE;\n",
              "      border: none;\n",
              "      border-radius: 50%;\n",
              "      cursor: pointer;\n",
              "      display: none;\n",
              "      fill: #1967D2;\n",
              "      height: 32px;\n",
              "      padding: 0 0 0 0;\n",
              "      width: 32px;\n",
              "    }\n",
              "\n",
              "    .colab-df-convert:hover {\n",
              "      background-color: #E2EBFA;\n",
              "      box-shadow: 0px 1px 2px rgba(60, 64, 67, 0.3), 0px 1px 3px 1px rgba(60, 64, 67, 0.15);\n",
              "      fill: #174EA6;\n",
              "    }\n",
              "\n",
              "    [theme=dark] .colab-df-convert {\n",
              "      background-color: #3B4455;\n",
              "      fill: #D2E3FC;\n",
              "    }\n",
              "\n",
              "    [theme=dark] .colab-df-convert:hover {\n",
              "      background-color: #434B5C;\n",
              "      box-shadow: 0px 1px 3px 1px rgba(0, 0, 0, 0.15);\n",
              "      filter: drop-shadow(0px 1px 2px rgba(0, 0, 0, 0.3));\n",
              "      fill: #FFFFFF;\n",
              "    }\n",
              "  </style>\n",
              "\n",
              "      <script>\n",
              "        const buttonEl =\n",
              "          document.querySelector('#df-41a7f20a-ac13-4f47-a133-21043a91c465 button.colab-df-convert');\n",
              "        buttonEl.style.display =\n",
              "          google.colab.kernel.accessAllowed ? 'block' : 'none';\n",
              "\n",
              "        async function convertToInteractive(key) {\n",
              "          const element = document.querySelector('#df-41a7f20a-ac13-4f47-a133-21043a91c465');\n",
              "          const dataTable =\n",
              "            await google.colab.kernel.invokeFunction('convertToInteractive',\n",
              "                                                     [key], {});\n",
              "          if (!dataTable) return;\n",
              "\n",
              "          const docLinkHtml = 'Like what you see? Visit the ' +\n",
              "            '<a target=\"_blank\" href=https://colab.research.google.com/notebooks/data_table.ipynb>data table notebook</a>'\n",
              "            + ' to learn more about interactive tables.';\n",
              "          element.innerHTML = '';\n",
              "          dataTable['output_type'] = 'display_data';\n",
              "          await google.colab.output.renderOutput(dataTable, element);\n",
              "          const docLink = document.createElement('div');\n",
              "          docLink.innerHTML = docLinkHtml;\n",
              "          element.appendChild(docLink);\n",
              "        }\n",
              "      </script>\n",
              "    </div>\n",
              "  </div>\n",
              "  "
            ]
          },
          "metadata": {},
          "execution_count": 7
        }
      ],
      "source": [
        "base_credit # defaulted"
      ]
    },
    {
      "cell_type": "code",
      "execution_count": null,
      "metadata": {
        "colab": {
          "base_uri": "https://localhost:8080/",
          "height": 363
        },
        "id": "P59lt7V6mC-d",
        "outputId": "520e9e87-c416-4b75-d7c1-0e4af4856cc1"
      },
      "outputs": [
        {
          "output_type": "execute_result",
          "data": {
            "text/plain": [
              "   clientid       income        age         loan  default\n",
              "0         1  66155.92510  59.017015  8106.532131        0\n",
              "1         2  34415.15397  48.117153  6564.745018        0\n",
              "2         3  57317.17006  63.108049  8020.953296        0\n",
              "3         4  42709.53420  45.751972  6103.642260        0\n",
              "4         5  66952.68885  18.584336  8770.099235        1\n",
              "5         6  24904.06414  57.471607    15.498598        0\n",
              "6         7  48430.35961  26.809132  5722.581981        0\n",
              "7         8  24500.14198  32.897548  2971.003310        1\n",
              "8         9  40654.89254  55.496853  4755.825280        0\n",
              "9        10  25075.87277  39.776378  1409.230371        0"
            ],
            "text/html": [
              "\n",
              "  <div id=\"df-60605e3c-311e-47d5-85c1-1e708ae9067f\">\n",
              "    <div class=\"colab-df-container\">\n",
              "      <div>\n",
              "<style scoped>\n",
              "    .dataframe tbody tr th:only-of-type {\n",
              "        vertical-align: middle;\n",
              "    }\n",
              "\n",
              "    .dataframe tbody tr th {\n",
              "        vertical-align: top;\n",
              "    }\n",
              "\n",
              "    .dataframe thead th {\n",
              "        text-align: right;\n",
              "    }\n",
              "</style>\n",
              "<table border=\"1\" class=\"dataframe\">\n",
              "  <thead>\n",
              "    <tr style=\"text-align: right;\">\n",
              "      <th></th>\n",
              "      <th>clientid</th>\n",
              "      <th>income</th>\n",
              "      <th>age</th>\n",
              "      <th>loan</th>\n",
              "      <th>default</th>\n",
              "    </tr>\n",
              "  </thead>\n",
              "  <tbody>\n",
              "    <tr>\n",
              "      <th>0</th>\n",
              "      <td>1</td>\n",
              "      <td>66155.92510</td>\n",
              "      <td>59.017015</td>\n",
              "      <td>8106.532131</td>\n",
              "      <td>0</td>\n",
              "    </tr>\n",
              "    <tr>\n",
              "      <th>1</th>\n",
              "      <td>2</td>\n",
              "      <td>34415.15397</td>\n",
              "      <td>48.117153</td>\n",
              "      <td>6564.745018</td>\n",
              "      <td>0</td>\n",
              "    </tr>\n",
              "    <tr>\n",
              "      <th>2</th>\n",
              "      <td>3</td>\n",
              "      <td>57317.17006</td>\n",
              "      <td>63.108049</td>\n",
              "      <td>8020.953296</td>\n",
              "      <td>0</td>\n",
              "    </tr>\n",
              "    <tr>\n",
              "      <th>3</th>\n",
              "      <td>4</td>\n",
              "      <td>42709.53420</td>\n",
              "      <td>45.751972</td>\n",
              "      <td>6103.642260</td>\n",
              "      <td>0</td>\n",
              "    </tr>\n",
              "    <tr>\n",
              "      <th>4</th>\n",
              "      <td>5</td>\n",
              "      <td>66952.68885</td>\n",
              "      <td>18.584336</td>\n",
              "      <td>8770.099235</td>\n",
              "      <td>1</td>\n",
              "    </tr>\n",
              "    <tr>\n",
              "      <th>5</th>\n",
              "      <td>6</td>\n",
              "      <td>24904.06414</td>\n",
              "      <td>57.471607</td>\n",
              "      <td>15.498598</td>\n",
              "      <td>0</td>\n",
              "    </tr>\n",
              "    <tr>\n",
              "      <th>6</th>\n",
              "      <td>7</td>\n",
              "      <td>48430.35961</td>\n",
              "      <td>26.809132</td>\n",
              "      <td>5722.581981</td>\n",
              "      <td>0</td>\n",
              "    </tr>\n",
              "    <tr>\n",
              "      <th>7</th>\n",
              "      <td>8</td>\n",
              "      <td>24500.14198</td>\n",
              "      <td>32.897548</td>\n",
              "      <td>2971.003310</td>\n",
              "      <td>1</td>\n",
              "    </tr>\n",
              "    <tr>\n",
              "      <th>8</th>\n",
              "      <td>9</td>\n",
              "      <td>40654.89254</td>\n",
              "      <td>55.496853</td>\n",
              "      <td>4755.825280</td>\n",
              "      <td>0</td>\n",
              "    </tr>\n",
              "    <tr>\n",
              "      <th>9</th>\n",
              "      <td>10</td>\n",
              "      <td>25075.87277</td>\n",
              "      <td>39.776378</td>\n",
              "      <td>1409.230371</td>\n",
              "      <td>0</td>\n",
              "    </tr>\n",
              "  </tbody>\n",
              "</table>\n",
              "</div>\n",
              "      <button class=\"colab-df-convert\" onclick=\"convertToInteractive('df-60605e3c-311e-47d5-85c1-1e708ae9067f')\"\n",
              "              title=\"Convert this dataframe to an interactive table.\"\n",
              "              style=\"display:none;\">\n",
              "        \n",
              "  <svg xmlns=\"http://www.w3.org/2000/svg\" height=\"24px\"viewBox=\"0 0 24 24\"\n",
              "       width=\"24px\">\n",
              "    <path d=\"M0 0h24v24H0V0z\" fill=\"none\"/>\n",
              "    <path d=\"M18.56 5.44l.94 2.06.94-2.06 2.06-.94-2.06-.94-.94-2.06-.94 2.06-2.06.94zm-11 1L8.5 8.5l.94-2.06 2.06-.94-2.06-.94L8.5 2.5l-.94 2.06-2.06.94zm10 10l.94 2.06.94-2.06 2.06-.94-2.06-.94-.94-2.06-.94 2.06-2.06.94z\"/><path d=\"M17.41 7.96l-1.37-1.37c-.4-.4-.92-.59-1.43-.59-.52 0-1.04.2-1.43.59L10.3 9.45l-7.72 7.72c-.78.78-.78 2.05 0 2.83L4 21.41c.39.39.9.59 1.41.59.51 0 1.02-.2 1.41-.59l7.78-7.78 2.81-2.81c.8-.78.8-2.07 0-2.86zM5.41 20L4 18.59l7.72-7.72 1.47 1.35L5.41 20z\"/>\n",
              "  </svg>\n",
              "      </button>\n",
              "      \n",
              "  <style>\n",
              "    .colab-df-container {\n",
              "      display:flex;\n",
              "      flex-wrap:wrap;\n",
              "      gap: 12px;\n",
              "    }\n",
              "\n",
              "    .colab-df-convert {\n",
              "      background-color: #E8F0FE;\n",
              "      border: none;\n",
              "      border-radius: 50%;\n",
              "      cursor: pointer;\n",
              "      display: none;\n",
              "      fill: #1967D2;\n",
              "      height: 32px;\n",
              "      padding: 0 0 0 0;\n",
              "      width: 32px;\n",
              "    }\n",
              "\n",
              "    .colab-df-convert:hover {\n",
              "      background-color: #E2EBFA;\n",
              "      box-shadow: 0px 1px 2px rgba(60, 64, 67, 0.3), 0px 1px 3px 1px rgba(60, 64, 67, 0.15);\n",
              "      fill: #174EA6;\n",
              "    }\n",
              "\n",
              "    [theme=dark] .colab-df-convert {\n",
              "      background-color: #3B4455;\n",
              "      fill: #D2E3FC;\n",
              "    }\n",
              "\n",
              "    [theme=dark] .colab-df-convert:hover {\n",
              "      background-color: #434B5C;\n",
              "      box-shadow: 0px 1px 3px 1px rgba(0, 0, 0, 0.15);\n",
              "      filter: drop-shadow(0px 1px 2px rgba(0, 0, 0, 0.3));\n",
              "      fill: #FFFFFF;\n",
              "    }\n",
              "  </style>\n",
              "\n",
              "      <script>\n",
              "        const buttonEl =\n",
              "          document.querySelector('#df-60605e3c-311e-47d5-85c1-1e708ae9067f button.colab-df-convert');\n",
              "        buttonEl.style.display =\n",
              "          google.colab.kernel.accessAllowed ? 'block' : 'none';\n",
              "\n",
              "        async function convertToInteractive(key) {\n",
              "          const element = document.querySelector('#df-60605e3c-311e-47d5-85c1-1e708ae9067f');\n",
              "          const dataTable =\n",
              "            await google.colab.kernel.invokeFunction('convertToInteractive',\n",
              "                                                     [key], {});\n",
              "          if (!dataTable) return;\n",
              "\n",
              "          const docLinkHtml = 'Like what you see? Visit the ' +\n",
              "            '<a target=\"_blank\" href=https://colab.research.google.com/notebooks/data_table.ipynb>data table notebook</a>'\n",
              "            + ' to learn more about interactive tables.';\n",
              "          element.innerHTML = '';\n",
              "          dataTable['output_type'] = 'display_data';\n",
              "          await google.colab.output.renderOutput(dataTable, element);\n",
              "          const docLink = document.createElement('div');\n",
              "          docLink.innerHTML = docLinkHtml;\n",
              "          element.appendChild(docLink);\n",
              "        }\n",
              "      </script>\n",
              "    </div>\n",
              "  </div>\n",
              "  "
            ]
          },
          "metadata": {},
          "execution_count": 8
        }
      ],
      "source": [
        "base_credit.head(10)"
      ]
    },
    {
      "cell_type": "code",
      "execution_count": null,
      "metadata": {
        "colab": {
          "base_uri": "https://localhost:8080/",
          "height": 300
        },
        "id": "Mkj0aqNbmQfn",
        "outputId": "8fa0cbc0-1a1b-46e8-d6b9-c8c7d4f11568"
      },
      "outputs": [
        {
          "output_type": "execute_result",
          "data": {
            "text/plain": [
              "          clientid        income          age          loan      default\n",
              "count  2000.000000   2000.000000  1997.000000   2000.000000  2000.000000\n",
              "mean   1000.500000  45331.600018    40.807559   4444.369695     0.141500\n",
              "std     577.494589  14326.327119    13.624469   3045.410024     0.348624\n",
              "min       1.000000  20014.489470   -52.423280      1.377630     0.000000\n",
              "25%     500.750000  32796.459720    28.990415   1939.708847     0.000000\n",
              "50%    1000.500000  45789.117310    41.317159   3974.719418     0.000000\n",
              "75%    1500.250000  57791.281670    52.587040   6432.410625     0.000000\n",
              "max    2000.000000  69995.685580    63.971796  13766.051240     1.000000"
            ],
            "text/html": [
              "\n",
              "  <div id=\"df-d51ddc70-d595-4215-8267-0569ed245844\">\n",
              "    <div class=\"colab-df-container\">\n",
              "      <div>\n",
              "<style scoped>\n",
              "    .dataframe tbody tr th:only-of-type {\n",
              "        vertical-align: middle;\n",
              "    }\n",
              "\n",
              "    .dataframe tbody tr th {\n",
              "        vertical-align: top;\n",
              "    }\n",
              "\n",
              "    .dataframe thead th {\n",
              "        text-align: right;\n",
              "    }\n",
              "</style>\n",
              "<table border=\"1\" class=\"dataframe\">\n",
              "  <thead>\n",
              "    <tr style=\"text-align: right;\">\n",
              "      <th></th>\n",
              "      <th>clientid</th>\n",
              "      <th>income</th>\n",
              "      <th>age</th>\n",
              "      <th>loan</th>\n",
              "      <th>default</th>\n",
              "    </tr>\n",
              "  </thead>\n",
              "  <tbody>\n",
              "    <tr>\n",
              "      <th>count</th>\n",
              "      <td>2000.000000</td>\n",
              "      <td>2000.000000</td>\n",
              "      <td>1997.000000</td>\n",
              "      <td>2000.000000</td>\n",
              "      <td>2000.000000</td>\n",
              "    </tr>\n",
              "    <tr>\n",
              "      <th>mean</th>\n",
              "      <td>1000.500000</td>\n",
              "      <td>45331.600018</td>\n",
              "      <td>40.807559</td>\n",
              "      <td>4444.369695</td>\n",
              "      <td>0.141500</td>\n",
              "    </tr>\n",
              "    <tr>\n",
              "      <th>std</th>\n",
              "      <td>577.494589</td>\n",
              "      <td>14326.327119</td>\n",
              "      <td>13.624469</td>\n",
              "      <td>3045.410024</td>\n",
              "      <td>0.348624</td>\n",
              "    </tr>\n",
              "    <tr>\n",
              "      <th>min</th>\n",
              "      <td>1.000000</td>\n",
              "      <td>20014.489470</td>\n",
              "      <td>-52.423280</td>\n",
              "      <td>1.377630</td>\n",
              "      <td>0.000000</td>\n",
              "    </tr>\n",
              "    <tr>\n",
              "      <th>25%</th>\n",
              "      <td>500.750000</td>\n",
              "      <td>32796.459720</td>\n",
              "      <td>28.990415</td>\n",
              "      <td>1939.708847</td>\n",
              "      <td>0.000000</td>\n",
              "    </tr>\n",
              "    <tr>\n",
              "      <th>50%</th>\n",
              "      <td>1000.500000</td>\n",
              "      <td>45789.117310</td>\n",
              "      <td>41.317159</td>\n",
              "      <td>3974.719418</td>\n",
              "      <td>0.000000</td>\n",
              "    </tr>\n",
              "    <tr>\n",
              "      <th>75%</th>\n",
              "      <td>1500.250000</td>\n",
              "      <td>57791.281670</td>\n",
              "      <td>52.587040</td>\n",
              "      <td>6432.410625</td>\n",
              "      <td>0.000000</td>\n",
              "    </tr>\n",
              "    <tr>\n",
              "      <th>max</th>\n",
              "      <td>2000.000000</td>\n",
              "      <td>69995.685580</td>\n",
              "      <td>63.971796</td>\n",
              "      <td>13766.051240</td>\n",
              "      <td>1.000000</td>\n",
              "    </tr>\n",
              "  </tbody>\n",
              "</table>\n",
              "</div>\n",
              "      <button class=\"colab-df-convert\" onclick=\"convertToInteractive('df-d51ddc70-d595-4215-8267-0569ed245844')\"\n",
              "              title=\"Convert this dataframe to an interactive table.\"\n",
              "              style=\"display:none;\">\n",
              "        \n",
              "  <svg xmlns=\"http://www.w3.org/2000/svg\" height=\"24px\"viewBox=\"0 0 24 24\"\n",
              "       width=\"24px\">\n",
              "    <path d=\"M0 0h24v24H0V0z\" fill=\"none\"/>\n",
              "    <path d=\"M18.56 5.44l.94 2.06.94-2.06 2.06-.94-2.06-.94-.94-2.06-.94 2.06-2.06.94zm-11 1L8.5 8.5l.94-2.06 2.06-.94-2.06-.94L8.5 2.5l-.94 2.06-2.06.94zm10 10l.94 2.06.94-2.06 2.06-.94-2.06-.94-.94-2.06-.94 2.06-2.06.94z\"/><path d=\"M17.41 7.96l-1.37-1.37c-.4-.4-.92-.59-1.43-.59-.52 0-1.04.2-1.43.59L10.3 9.45l-7.72 7.72c-.78.78-.78 2.05 0 2.83L4 21.41c.39.39.9.59 1.41.59.51 0 1.02-.2 1.41-.59l7.78-7.78 2.81-2.81c.8-.78.8-2.07 0-2.86zM5.41 20L4 18.59l7.72-7.72 1.47 1.35L5.41 20z\"/>\n",
              "  </svg>\n",
              "      </button>\n",
              "      \n",
              "  <style>\n",
              "    .colab-df-container {\n",
              "      display:flex;\n",
              "      flex-wrap:wrap;\n",
              "      gap: 12px;\n",
              "    }\n",
              "\n",
              "    .colab-df-convert {\n",
              "      background-color: #E8F0FE;\n",
              "      border: none;\n",
              "      border-radius: 50%;\n",
              "      cursor: pointer;\n",
              "      display: none;\n",
              "      fill: #1967D2;\n",
              "      height: 32px;\n",
              "      padding: 0 0 0 0;\n",
              "      width: 32px;\n",
              "    }\n",
              "\n",
              "    .colab-df-convert:hover {\n",
              "      background-color: #E2EBFA;\n",
              "      box-shadow: 0px 1px 2px rgba(60, 64, 67, 0.3), 0px 1px 3px 1px rgba(60, 64, 67, 0.15);\n",
              "      fill: #174EA6;\n",
              "    }\n",
              "\n",
              "    [theme=dark] .colab-df-convert {\n",
              "      background-color: #3B4455;\n",
              "      fill: #D2E3FC;\n",
              "    }\n",
              "\n",
              "    [theme=dark] .colab-df-convert:hover {\n",
              "      background-color: #434B5C;\n",
              "      box-shadow: 0px 1px 3px 1px rgba(0, 0, 0, 0.15);\n",
              "      filter: drop-shadow(0px 1px 2px rgba(0, 0, 0, 0.3));\n",
              "      fill: #FFFFFF;\n",
              "    }\n",
              "  </style>\n",
              "\n",
              "      <script>\n",
              "        const buttonEl =\n",
              "          document.querySelector('#df-d51ddc70-d595-4215-8267-0569ed245844 button.colab-df-convert');\n",
              "        buttonEl.style.display =\n",
              "          google.colab.kernel.accessAllowed ? 'block' : 'none';\n",
              "\n",
              "        async function convertToInteractive(key) {\n",
              "          const element = document.querySelector('#df-d51ddc70-d595-4215-8267-0569ed245844');\n",
              "          const dataTable =\n",
              "            await google.colab.kernel.invokeFunction('convertToInteractive',\n",
              "                                                     [key], {});\n",
              "          if (!dataTable) return;\n",
              "\n",
              "          const docLinkHtml = 'Like what you see? Visit the ' +\n",
              "            '<a target=\"_blank\" href=https://colab.research.google.com/notebooks/data_table.ipynb>data table notebook</a>'\n",
              "            + ' to learn more about interactive tables.';\n",
              "          element.innerHTML = '';\n",
              "          dataTable['output_type'] = 'display_data';\n",
              "          await google.colab.output.renderOutput(dataTable, element);\n",
              "          const docLink = document.createElement('div');\n",
              "          docLink.innerHTML = docLinkHtml;\n",
              "          element.appendChild(docLink);\n",
              "        }\n",
              "      </script>\n",
              "    </div>\n",
              "  </div>\n",
              "  "
            ]
          },
          "metadata": {},
          "execution_count": 10
        }
      ],
      "source": [
        "base_credit.describe()"
      ]
    },
    {
      "cell_type": "markdown",
      "metadata": {
        "id": "x23iAAKsQ-iU"
      },
      "source": [
        "### Visualização dos dados"
      ]
    },
    {
      "cell_type": "code",
      "execution_count": null,
      "metadata": {
        "colab": {
          "base_uri": "https://localhost:8080/",
          "height": 279
        },
        "id": "XXQBO5VZpfVa",
        "outputId": "360bede0-ccab-467c-9881-77b7be0eea13"
      },
      "outputs": [
        {
          "output_type": "display_data",
          "data": {
            "text/plain": [
              "<Figure size 432x288 with 1 Axes>"
            ],
            "image/png": "[encoded data removed]"
          },
          "metadata": {
            "needs_background": "light"
          }
        }
      ],
      "source": [
        "sns.countplot(x = base_credit['default']);"
      ]
    },
    {
      "cell_type": "code",
      "execution_count": null,
      "metadata": {
        "colab": {
          "base_uri": "https://localhost:8080/",
          "height": 265
        },
        "id": "1f5YJJv8pssr",
        "outputId": "931d8d82-3756-46b0-b797-f497f9953a16"
      },
      "outputs": [
        {
          "output_type": "display_data",
          "data": {
            "text/plain": [
              "<Figure size 432x288 with 1 Axes>"
            ],
            "image/png": "[encoded data removed]"
          },
          "metadata": {
            "needs_background": "light"
          }
        }
      ],
      "source": [
        "plt.hist(x = base_credit['age']);"
      ]
    },
    {
      "cell_type": "code",
      "execution_count": null,
      "metadata": {
        "colab": {
          "base_uri": "https://localhost:8080/",
          "height": 265
        },
        "id": "vaP5Rd2bqEU5",
        "outputId": "269a8c42-e519-463d-9b9b-8b26b20ea70c"
      },
      "outputs": [
        {
          "output_type": "display_data",
          "data": {
            "text/plain": [
              "<Figure size 432x288 with 1 Axes>"
            ],
            "image/png": "[encoded data removed]"
          },
          "metadata": {
            "needs_background": "light"
          }
        }
      ],
      "source": [
        "plt.hist(x = base_credit['income']);"
      ]
    },
    {
      "cell_type": "code",
      "execution_count": null,
      "metadata": {
        "colab": {
          "base_uri": "https://localhost:8080/",
          "height": 265
        },
        "id": "ZSWkxX1WqYBw",
        "outputId": "4dad4022-92f6-4cd2-b960-810c0a5029de"
      },
      "outputs": [
        {
          "output_type": "display_data",
          "data": {
            "text/plain": [
              "<Figure size 432x288 with 1 Axes>"
            ],
            "image/png": "[encoded data removed]"
          },
          "metadata": {
            "needs_background": "light"
          }
        }
      ],
      "source": [
        "plt.hist(x = base_credit['loan']);"
      ]
    },
    {
      "cell_type": "markdown",
      "metadata": {
        "id": "9JL8G9jQXTLF"
      },
      "source": [
        "### Tratamento de valores inconsistentes"
      ]
    },
    {
      "cell_type": "code",
      "execution_count": null,
      "metadata": {
        "colab": {
          "base_uri": "https://localhost:8080/",
          "height": 143
        },
        "id": "9ioniRIJtjAq",
        "outputId": "3b7f6a89-d9c0-49a8-bde9-2a3c3edbf2bd"
      },
      "outputs": [
        {
          "data": {
            "text/html": [
              "\n",
              "  <div id=\"df-6a8147ab-c74e-42e3-aa36-7414943e6e0e\">\n",
              "    <div class=\"colab-df-container\">\n",
              "      <div>\n",
              "<style scoped>\n",
              "    .dataframe tbody tr th:only-of-type {\n",
              "        vertical-align: middle;\n",
              "    }\n",
              "\n",
              "    .dataframe tbody tr th {\n",
              "        vertical-align: top;\n",
              "    }\n",
              "\n",
              "    .dataframe thead th {\n",
              "        text-align: right;\n",
              "    }\n",
              "</style>\n",
              "<table border=\"1\" class=\"dataframe\">\n",
              "  <thead>\n",
              "    <tr style=\"text-align: right;\">\n",
              "      <th></th>\n",
              "      <th>clientid</th>\n",
              "      <th>income</th>\n",
              "      <th>age</th>\n",
              "      <th>loan</th>\n",
              "      <th>default</th>\n",
              "    </tr>\n",
              "  </thead>\n",
              "  <tbody>\n",
              "    <tr>\n",
              "      <th>15</th>\n",
              "      <td>16</td>\n",
              "      <td>50501.726689</td>\n",
              "      <td>-28.218361</td>\n",
              "      <td>3977.287432</td>\n",
              "      <td>0</td>\n",
              "    </tr>\n",
              "    <tr>\n",
              "      <th>21</th>\n",
              "      <td>22</td>\n",
              "      <td>32197.620701</td>\n",
              "      <td>-52.423280</td>\n",
              "      <td>4244.057136</td>\n",
              "      <td>0</td>\n",
              "    </tr>\n",
              "    <tr>\n",
              "      <th>26</th>\n",
              "      <td>27</td>\n",
              "      <td>63287.038908</td>\n",
              "      <td>-36.496976</td>\n",
              "      <td>9595.286289</td>\n",
              "      <td>0</td>\n",
              "    </tr>\n",
              "  </tbody>\n",
              "</table>\n",
              "</div>\n",
              "      <button class=\"colab-df-convert\" onclick=\"convertToInteractive('df-6a8147ab-c74e-42e3-aa36-7414943e6e0e')\"\n",
              "              title=\"Convert this dataframe to an interactive table.\"\n",
              "              style=\"display:none;\">\n",
              "        \n",
              "  <svg xmlns=\"http://www.w3.org/2000/svg\" height=\"24px\"viewBox=\"0 0 24 24\"\n",
              "       width=\"24px\">\n",
              "    <path d=\"M0 0h24v24H0V0z\" fill=\"none\"/>\n",
              "    <path d=\"M18.56 5.44l.94 2.06.94-2.06 2.06-.94-2.06-.94-.94-2.06-.94 2.06-2.06.94zm-11 1L8.5 8.5l.94-2.06 2.06-.94-2.06-.94L8.5 2.5l-.94 2.06-2.06.94zm10 10l.94 2.06.94-2.06 2.06-.94-2.06-.94-.94-2.06-.94 2.06-2.06.94z\"/><path d=\"M17.41 7.96l-1.37-1.37c-.4-.4-.92-.59-1.43-.59-.52 0-1.04.2-1.43.59L10.3 9.45l-7.72 7.72c-.78.78-.78 2.05 0 2.83L4 21.41c.39.39.9.59 1.41.59.51 0 1.02-.2 1.41-.59l7.78-7.78 2.81-2.81c.8-.78.8-2.07 0-2.86zM5.41 20L4 18.59l7.72-7.72 1.47 1.35L5.41 20z\"/>\n",
              "  </svg>\n",
              "      </button>\n",
              "      \n",
              "  <style>\n",
              "    .colab-df-container {\n",
              "      display:flex;\n",
              "      flex-wrap:wrap;\n",
              "      gap: 12px;\n",
              "    }\n",
              "\n",
              "    .colab-df-convert {\n",
              "      background-color: #E8F0FE;\n",
              "      border: none;\n",
              "      border-radius: 50%;\n",
              "      cursor: pointer;\n",
              "      display: none;\n",
              "      fill: #1967D2;\n",
              "      height: 32px;\n",
              "      padding: 0 0 0 0;\n",
              "      width: 32px;\n",
              "    }\n",
              "\n",
              "    .colab-df-convert:hover {\n",
              "      background-color: #E2EBFA;\n",
              "      box-shadow: 0px 1px 2px rgba(60, 64, 67, 0.3), 0px 1px 3px 1px rgba(60, 64, 67, 0.15);\n",
              "      fill: #174EA6;\n",
              "    }\n",
              "\n",
              "    [theme=dark] .colab-df-convert {\n",
              "      background-color: #3B4455;\n",
              "      fill: #D2E3FC;\n",
              "    }\n",
              "\n",
              "    [theme=dark] .colab-df-convert:hover {\n",
              "      background-color: #434B5C;\n",
              "      box-shadow: 0px 1px 3px 1px rgba(0, 0, 0, 0.15);\n",
              "      filter: drop-shadow(0px 1px 2px rgba(0, 0, 0, 0.3));\n",
              "      fill: #FFFFFF;\n",
              "    }\n",
              "  </style>\n",
              "\n",
              "      <script>\n",
              "        const buttonEl =\n",
              "          document.querySelector('#df-6a8147ab-c74e-42e3-aa36-7414943e6e0e button.colab-df-convert');\n",
              "        buttonEl.style.display =\n",
              "          google.colab.kernel.accessAllowed ? 'block' : 'none';\n",
              "\n",
              "        async function convertToInteractive(key) {\n",
              "          const element = document.querySelector('#df-6a8147ab-c74e-42e3-aa36-7414943e6e0e');\n",
              "          const dataTable =\n",
              "            await google.colab.kernel.invokeFunction('convertToInteractive',\n",
              "                                                     [key], {});\n",
              "          if (!dataTable) return;\n",
              "\n",
              "          const docLinkHtml = 'Like what you see? Visit the ' +\n",
              "            '<a target=\"_blank\" href=https://colab.research.google.com/notebooks/data_table.ipynb>data table notebook</a>'\n",
              "            + ' to learn more about interactive tables.';\n",
              "          element.innerHTML = '';\n",
              "          dataTable['output_type'] = 'display_data';\n",
              "          await google.colab.output.renderOutput(dataTable, element);\n",
              "          const docLink = document.createElement('div');\n",
              "          docLink.innerHTML = docLinkHtml;\n",
              "          element.appendChild(docLink);\n",
              "        }\n",
              "      </script>\n",
              "    </div>\n",
              "  </div>\n",
              "  "
            ],
            "text/plain": [
              "    clientid        income        age         loan  default\n",
              "15        16  50501.726689 -28.218361  3977.287432        0\n",
              "21        22  32197.620701 -52.423280  4244.057136        0\n",
              "26        27  63287.038908 -36.496976  9595.286289        0"
            ]
          },
          "execution_count": 19,
          "metadata": {},
          "output_type": "execute_result"
        }
      ],
      "source": [
        "base_credit[base_credit['age'] < 0]"
      ]
    },
    {
      "cell_type": "code",
      "execution_count": null,
      "metadata": {
        "id": "1iWxHoZewHVS"
      },
      "outputs": [],
      "source": [
        "# Prencher a média"
      ]
    },
    {
      "cell_type": "code",
      "execution_count": null,
      "metadata": {
        "colab": {
          "base_uri": "https://localhost:8080/"
        },
        "id": "4UF1xhACwXNh",
        "outputId": "3894434f-15f1-4b49-efc7-d938a4f4ec4d"
      },
      "outputs": [
        {
          "data": {
            "text/plain": [
              "40.92770044906149"
            ]
          },
          "execution_count": 29,
          "metadata": {},
          "output_type": "execute_result"
        }
      ],
      "source": [
        "base_credit['age'][base_credit['age'] > 0].mean()"
      ]
    },
    {
      "cell_type": "code",
      "execution_count": null,
      "metadata": {
        "id": "cRQB2zXuwvlF"
      },
      "outputs": [],
      "source": [
        "base_credit.loc[base_credit['age'] < 0, 'age'] = 40.92"
      ]
    },
    {
      "cell_type": "code",
      "execution_count": null,
      "metadata": {
        "colab": {
          "base_uri": "https://localhost:8080/",
          "height": 49
        },
        "id": "mMif3tozw8fv",
        "outputId": "b3acba83-c839-4e9c-a0f3-e60e2aebe35d"
      },
      "outputs": [
        {
          "data": {
            "text/html": [
              "\n",
              "  <div id=\"df-60bc0db4-c01e-4a9e-810a-0f6c09b76f3b\">\n",
              "    <div class=\"colab-df-container\">\n",
              "      <div>\n",
              "<style scoped>\n",
              "    .dataframe tbody tr th:only-of-type {\n",
              "        vertical-align: middle;\n",
              "    }\n",
              "\n",
              "    .dataframe tbody tr th {\n",
              "        vertical-align: top;\n",
              "    }\n",
              "\n",
              "    .dataframe thead th {\n",
              "        text-align: right;\n",
              "    }\n",
              "</style>\n",
              "<table border=\"1\" class=\"dataframe\">\n",
              "  <thead>\n",
              "    <tr style=\"text-align: right;\">\n",
              "      <th></th>\n",
              "      <th>clientid</th>\n",
              "      <th>income</th>\n",
              "      <th>age</th>\n",
              "      <th>loan</th>\n",
              "      <th>default</th>\n",
              "    </tr>\n",
              "  </thead>\n",
              "  <tbody>\n",
              "  </tbody>\n",
              "</table>\n",
              "</div>\n",
              "      <button class=\"colab-df-convert\" onclick=\"convertToInteractive('df-60bc0db4-c01e-4a9e-810a-0f6c09b76f3b')\"\n",
              "              title=\"Convert this dataframe to an interactive table.\"\n",
              "              style=\"display:none;\">\n",
              "        \n",
              "  <svg xmlns=\"http://www.w3.org/2000/svg\" height=\"24px\"viewBox=\"0 0 24 24\"\n",
              "       width=\"24px\">\n",
              "    <path d=\"M0 0h24v24H0V0z\" fill=\"none\"/>\n",
              "    <path d=\"M18.56 5.44l.94 2.06.94-2.06 2.06-.94-2.06-.94-.94-2.06-.94 2.06-2.06.94zm-11 1L8.5 8.5l.94-2.06 2.06-.94-2.06-.94L8.5 2.5l-.94 2.06-2.06.94zm10 10l.94 2.06.94-2.06 2.06-.94-2.06-.94-.94-2.06-.94 2.06-2.06.94z\"/><path d=\"M17.41 7.96l-1.37-1.37c-.4-.4-.92-.59-1.43-.59-.52 0-1.04.2-1.43.59L10.3 9.45l-7.72 7.72c-.78.78-.78 2.05 0 2.83L4 21.41c.39.39.9.59 1.41.59.51 0 1.02-.2 1.41-.59l7.78-7.78 2.81-2.81c.8-.78.8-2.07 0-2.86zM5.41 20L4 18.59l7.72-7.72 1.47 1.35L5.41 20z\"/>\n",
              "  </svg>\n",
              "      </button>\n",
              "      \n",
              "  <style>\n",
              "    .colab-df-container {\n",
              "      display:flex;\n",
              "      flex-wrap:wrap;\n",
              "      gap: 12px;\n",
              "    }\n",
              "\n",
              "    .colab-df-convert {\n",
              "      background-color: #E8F0FE;\n",
              "      border: none;\n",
              "      border-radius: 50%;\n",
              "      cursor: pointer;\n",
              "      display: none;\n",
              "      fill: #1967D2;\n",
              "      height: 32px;\n",
              "      padding: 0 0 0 0;\n",
              "      width: 32px;\n",
              "    }\n",
              "\n",
              "    .colab-df-convert:hover {\n",
              "      background-color: #E2EBFA;\n",
              "      box-shadow: 0px 1px 2px rgba(60, 64, 67, 0.3), 0px 1px 3px 1px rgba(60, 64, 67, 0.15);\n",
              "      fill: #174EA6;\n",
              "    }\n",
              "\n",
              "    [theme=dark] .colab-df-convert {\n",
              "      background-color: #3B4455;\n",
              "      fill: #D2E3FC;\n",
              "    }\n",
              "\n",
              "    [theme=dark] .colab-df-convert:hover {\n",
              "      background-color: #434B5C;\n",
              "      box-shadow: 0px 1px 3px 1px rgba(0, 0, 0, 0.15);\n",
              "      filter: drop-shadow(0px 1px 2px rgba(0, 0, 0, 0.3));\n",
              "      fill: #FFFFFF;\n",
              "    }\n",
              "  </style>\n",
              "\n",
              "      <script>\n",
              "        const buttonEl =\n",
              "          document.querySelector('#df-60bc0db4-c01e-4a9e-810a-0f6c09b76f3b button.colab-df-convert');\n",
              "        buttonEl.style.display =\n",
              "          google.colab.kernel.accessAllowed ? 'block' : 'none';\n",
              "\n",
              "        async function convertToInteractive(key) {\n",
              "          const element = document.querySelector('#df-60bc0db4-c01e-4a9e-810a-0f6c09b76f3b');\n",
              "          const dataTable =\n",
              "            await google.colab.kernel.invokeFunction('convertToInteractive',\n",
              "                                                     [key], {});\n",
              "          if (!dataTable) return;\n",
              "\n",
              "          const docLinkHtml = 'Like what you see? Visit the ' +\n",
              "            '<a target=\"_blank\" href=https://colab.research.google.com/notebooks/data_table.ipynb>data table notebook</a>'\n",
              "            + ' to learn more about interactive tables.';\n",
              "          element.innerHTML = '';\n",
              "          dataTable['output_type'] = 'display_data';\n",
              "          await google.colab.output.renderOutput(dataTable, element);\n",
              "          const docLink = document.createElement('div');\n",
              "          docLink.innerHTML = docLinkHtml;\n",
              "          element.appendChild(docLink);\n",
              "        }\n",
              "      </script>\n",
              "    </div>\n",
              "  </div>\n",
              "  "
            ],
            "text/plain": [
              "Empty DataFrame\n",
              "Columns: [clientid, income, age, loan, default]\n",
              "Index: []"
            ]
          },
          "execution_count": 31,
          "metadata": {},
          "output_type": "execute_result"
        }
      ],
      "source": [
        "base_credit.loc[base_credit['age'] < 0]"
      ]
    },
    {
      "cell_type": "code",
      "execution_count": null,
      "metadata": {
        "colab": {
          "base_uri": "https://localhost:8080/",
          "height": 896
        },
        "id": "M_G2QVWNxCVk",
        "outputId": "f0083210-4d84-479f-f68c-cd1fe86011e6"
      },
      "outputs": [
        {
          "data": {
            "text/html": [
              "\n",
              "  <div id=\"df-f12a8ae8-c789-4a10-b8f6-1983f5f99201\">\n",
              "    <div class=\"colab-df-container\">\n",
              "      <div>\n",
              "<style scoped>\n",
              "    .dataframe tbody tr th:only-of-type {\n",
              "        vertical-align: middle;\n",
              "    }\n",
              "\n",
              "    .dataframe tbody tr th {\n",
              "        vertical-align: top;\n",
              "    }\n",
              "\n",
              "    .dataframe thead th {\n",
              "        text-align: right;\n",
              "    }\n",
              "</style>\n",
              "<table border=\"1\" class=\"dataframe\">\n",
              "  <thead>\n",
              "    <tr style=\"text-align: right;\">\n",
              "      <th></th>\n",
              "      <th>clientid</th>\n",
              "      <th>income</th>\n",
              "      <th>age</th>\n",
              "      <th>loan</th>\n",
              "      <th>default</th>\n",
              "    </tr>\n",
              "  </thead>\n",
              "  <tbody>\n",
              "    <tr>\n",
              "      <th>0</th>\n",
              "      <td>1</td>\n",
              "      <td>66155.925095</td>\n",
              "      <td>59.017015</td>\n",
              "      <td>8106.532131</td>\n",
              "      <td>0</td>\n",
              "    </tr>\n",
              "    <tr>\n",
              "      <th>1</th>\n",
              "      <td>2</td>\n",
              "      <td>34415.153966</td>\n",
              "      <td>48.117153</td>\n",
              "      <td>6564.745018</td>\n",
              "      <td>0</td>\n",
              "    </tr>\n",
              "    <tr>\n",
              "      <th>2</th>\n",
              "      <td>3</td>\n",
              "      <td>57317.170063</td>\n",
              "      <td>63.108049</td>\n",
              "      <td>8020.953296</td>\n",
              "      <td>0</td>\n",
              "    </tr>\n",
              "    <tr>\n",
              "      <th>3</th>\n",
              "      <td>4</td>\n",
              "      <td>42709.534201</td>\n",
              "      <td>45.751972</td>\n",
              "      <td>6103.642260</td>\n",
              "      <td>0</td>\n",
              "    </tr>\n",
              "    <tr>\n",
              "      <th>4</th>\n",
              "      <td>5</td>\n",
              "      <td>66952.688845</td>\n",
              "      <td>18.584336</td>\n",
              "      <td>8770.099235</td>\n",
              "      <td>1</td>\n",
              "    </tr>\n",
              "    <tr>\n",
              "      <th>5</th>\n",
              "      <td>6</td>\n",
              "      <td>24904.064140</td>\n",
              "      <td>57.471607</td>\n",
              "      <td>15.498598</td>\n",
              "      <td>0</td>\n",
              "    </tr>\n",
              "    <tr>\n",
              "      <th>6</th>\n",
              "      <td>7</td>\n",
              "      <td>48430.359613</td>\n",
              "      <td>26.809132</td>\n",
              "      <td>5722.581981</td>\n",
              "      <td>0</td>\n",
              "    </tr>\n",
              "    <tr>\n",
              "      <th>7</th>\n",
              "      <td>8</td>\n",
              "      <td>24500.141984</td>\n",
              "      <td>32.897548</td>\n",
              "      <td>2971.003310</td>\n",
              "      <td>1</td>\n",
              "    </tr>\n",
              "    <tr>\n",
              "      <th>8</th>\n",
              "      <td>9</td>\n",
              "      <td>40654.892537</td>\n",
              "      <td>55.496853</td>\n",
              "      <td>4755.825280</td>\n",
              "      <td>0</td>\n",
              "    </tr>\n",
              "    <tr>\n",
              "      <th>9</th>\n",
              "      <td>10</td>\n",
              "      <td>25075.872771</td>\n",
              "      <td>39.776378</td>\n",
              "      <td>1409.230371</td>\n",
              "      <td>0</td>\n",
              "    </tr>\n",
              "    <tr>\n",
              "      <th>10</th>\n",
              "      <td>11</td>\n",
              "      <td>64131.415372</td>\n",
              "      <td>25.679575</td>\n",
              "      <td>4351.028971</td>\n",
              "      <td>0</td>\n",
              "    </tr>\n",
              "    <tr>\n",
              "      <th>11</th>\n",
              "      <td>12</td>\n",
              "      <td>59436.847123</td>\n",
              "      <td>60.471936</td>\n",
              "      <td>9254.244538</td>\n",
              "      <td>0</td>\n",
              "    </tr>\n",
              "    <tr>\n",
              "      <th>12</th>\n",
              "      <td>13</td>\n",
              "      <td>61050.346079</td>\n",
              "      <td>26.355044</td>\n",
              "      <td>5893.264659</td>\n",
              "      <td>0</td>\n",
              "    </tr>\n",
              "    <tr>\n",
              "      <th>13</th>\n",
              "      <td>14</td>\n",
              "      <td>27267.995458</td>\n",
              "      <td>61.576776</td>\n",
              "      <td>4759.787581</td>\n",
              "      <td>0</td>\n",
              "    </tr>\n",
              "    <tr>\n",
              "      <th>14</th>\n",
              "      <td>15</td>\n",
              "      <td>63061.960174</td>\n",
              "      <td>39.201553</td>\n",
              "      <td>1850.369377</td>\n",
              "      <td>0</td>\n",
              "    </tr>\n",
              "    <tr>\n",
              "      <th>15</th>\n",
              "      <td>16</td>\n",
              "      <td>50501.726689</td>\n",
              "      <td>40.920000</td>\n",
              "      <td>3977.287432</td>\n",
              "      <td>0</td>\n",
              "    </tr>\n",
              "    <tr>\n",
              "      <th>16</th>\n",
              "      <td>17</td>\n",
              "      <td>43548.654711</td>\n",
              "      <td>39.574530</td>\n",
              "      <td>3935.544453</td>\n",
              "      <td>0</td>\n",
              "    </tr>\n",
              "    <tr>\n",
              "      <th>17</th>\n",
              "      <td>18</td>\n",
              "      <td>43378.175194</td>\n",
              "      <td>60.848318</td>\n",
              "      <td>3277.737553</td>\n",
              "      <td>0</td>\n",
              "    </tr>\n",
              "    <tr>\n",
              "      <th>18</th>\n",
              "      <td>19</td>\n",
              "      <td>20542.365073</td>\n",
              "      <td>61.690571</td>\n",
              "      <td>3157.442290</td>\n",
              "      <td>0</td>\n",
              "    </tr>\n",
              "    <tr>\n",
              "      <th>19</th>\n",
              "      <td>20</td>\n",
              "      <td>58887.357549</td>\n",
              "      <td>26.076093</td>\n",
              "      <td>4965.516066</td>\n",
              "      <td>0</td>\n",
              "    </tr>\n",
              "    <tr>\n",
              "      <th>20</th>\n",
              "      <td>21</td>\n",
              "      <td>23000.784002</td>\n",
              "      <td>31.761354</td>\n",
              "      <td>1148.118057</td>\n",
              "      <td>0</td>\n",
              "    </tr>\n",
              "    <tr>\n",
              "      <th>21</th>\n",
              "      <td>22</td>\n",
              "      <td>32197.620701</td>\n",
              "      <td>40.920000</td>\n",
              "      <td>4244.057136</td>\n",
              "      <td>0</td>\n",
              "    </tr>\n",
              "    <tr>\n",
              "      <th>22</th>\n",
              "      <td>23</td>\n",
              "      <td>23329.319414</td>\n",
              "      <td>48.576975</td>\n",
              "      <td>222.622299</td>\n",
              "      <td>0</td>\n",
              "    </tr>\n",
              "    <tr>\n",
              "      <th>23</th>\n",
              "      <td>24</td>\n",
              "      <td>27845.800894</td>\n",
              "      <td>51.970624</td>\n",
              "      <td>4959.921226</td>\n",
              "      <td>0</td>\n",
              "    </tr>\n",
              "    <tr>\n",
              "      <th>24</th>\n",
              "      <td>25</td>\n",
              "      <td>65301.984029</td>\n",
              "      <td>48.840922</td>\n",
              "      <td>5465.267886</td>\n",
              "      <td>0</td>\n",
              "    </tr>\n",
              "    <tr>\n",
              "      <th>25</th>\n",
              "      <td>26</td>\n",
              "      <td>47451.630123</td>\n",
              "      <td>27.031741</td>\n",
              "      <td>5361.282716</td>\n",
              "      <td>0</td>\n",
              "    </tr>\n",
              "    <tr>\n",
              "      <th>26</th>\n",
              "      <td>27</td>\n",
              "      <td>63287.038908</td>\n",
              "      <td>40.920000</td>\n",
              "      <td>9595.286289</td>\n",
              "      <td>0</td>\n",
              "    </tr>\n",
              "  </tbody>\n",
              "</table>\n",
              "</div>\n",
              "      <button class=\"colab-df-convert\" onclick=\"convertToInteractive('df-f12a8ae8-c789-4a10-b8f6-1983f5f99201')\"\n",
              "              title=\"Convert this dataframe to an interactive table.\"\n",
              "              style=\"display:none;\">\n",
              "        \n",
              "  <svg xmlns=\"http://www.w3.org/2000/svg\" height=\"24px\"viewBox=\"0 0 24 24\"\n",
              "       width=\"24px\">\n",
              "    <path d=\"M0 0h24v24H0V0z\" fill=\"none\"/>\n",
              "    <path d=\"M18.56 5.44l.94 2.06.94-2.06 2.06-.94-2.06-.94-.94-2.06-.94 2.06-2.06.94zm-11 1L8.5 8.5l.94-2.06 2.06-.94-2.06-.94L8.5 2.5l-.94 2.06-2.06.94zm10 10l.94 2.06.94-2.06 2.06-.94-2.06-.94-.94-2.06-.94 2.06-2.06.94z\"/><path d=\"M17.41 7.96l-1.37-1.37c-.4-.4-.92-.59-1.43-.59-.52 0-1.04.2-1.43.59L10.3 9.45l-7.72 7.72c-.78.78-.78 2.05 0 2.83L4 21.41c.39.39.9.59 1.41.59.51 0 1.02-.2 1.41-.59l7.78-7.78 2.81-2.81c.8-.78.8-2.07 0-2.86zM5.41 20L4 18.59l7.72-7.72 1.47 1.35L5.41 20z\"/>\n",
              "  </svg>\n",
              "      </button>\n",
              "      \n",
              "  <style>\n",
              "    .colab-df-container {\n",
              "      display:flex;\n",
              "      flex-wrap:wrap;\n",
              "      gap: 12px;\n",
              "    }\n",
              "\n",
              "    .colab-df-convert {\n",
              "      background-color: #E8F0FE;\n",
              "      border: none;\n",
              "      border-radius: 50%;\n",
              "      cursor: pointer;\n",
              "      display: none;\n",
              "      fill: #1967D2;\n",
              "      height: 32px;\n",
              "      padding: 0 0 0 0;\n",
              "      width: 32px;\n",
              "    }\n",
              "\n",
              "    .colab-df-convert:hover {\n",
              "      background-color: #E2EBFA;\n",
              "      box-shadow: 0px 1px 2px rgba(60, 64, 67, 0.3), 0px 1px 3px 1px rgba(60, 64, 67, 0.15);\n",
              "      fill: #174EA6;\n",
              "    }\n",
              "\n",
              "    [theme=dark] .colab-df-convert {\n",
              "      background-color: #3B4455;\n",
              "      fill: #D2E3FC;\n",
              "    }\n",
              "\n",
              "    [theme=dark] .colab-df-convert:hover {\n",
              "      background-color: #434B5C;\n",
              "      box-shadow: 0px 1px 3px 1px rgba(0, 0, 0, 0.15);\n",
              "      filter: drop-shadow(0px 1px 2px rgba(0, 0, 0, 0.3));\n",
              "      fill: #FFFFFF;\n",
              "    }\n",
              "  </style>\n",
              "\n",
              "      <script>\n",
              "        const buttonEl =\n",
              "          document.querySelector('#df-f12a8ae8-c789-4a10-b8f6-1983f5f99201 button.colab-df-convert');\n",
              "        buttonEl.style.display =\n",
              "          google.colab.kernel.accessAllowed ? 'block' : 'none';\n",
              "\n",
              "        async function convertToInteractive(key) {\n",
              "          const element = document.querySelector('#df-f12a8ae8-c789-4a10-b8f6-1983f5f99201');\n",
              "          const dataTable =\n",
              "            await google.colab.kernel.invokeFunction('convertToInteractive',\n",
              "                                                     [key], {});\n",
              "          if (!dataTable) return;\n",
              "\n",
              "          const docLinkHtml = 'Like what you see? Visit the ' +\n",
              "            '<a target=\"_blank\" href=https://colab.research.google.com/notebooks/data_table.ipynb>data table notebook</a>'\n",
              "            + ' to learn more about interactive tables.';\n",
              "          element.innerHTML = '';\n",
              "          dataTable['output_type'] = 'display_data';\n",
              "          await google.colab.output.renderOutput(dataTable, element);\n",
              "          const docLink = document.createElement('div');\n",
              "          docLink.innerHTML = docLinkHtml;\n",
              "          element.appendChild(docLink);\n",
              "        }\n",
              "      </script>\n",
              "    </div>\n",
              "  </div>\n",
              "  "
            ],
            "text/plain": [
              "    clientid        income        age         loan  default\n",
              "0          1  66155.925095  59.017015  8106.532131        0\n",
              "1          2  34415.153966  48.117153  6564.745018        0\n",
              "2          3  57317.170063  63.108049  8020.953296        0\n",
              "3          4  42709.534201  45.751972  6103.642260        0\n",
              "4          5  66952.688845  18.584336  8770.099235        1\n",
              "5          6  24904.064140  57.471607    15.498598        0\n",
              "6          7  48430.359613  26.809132  5722.581981        0\n",
              "7          8  24500.141984  32.897548  2971.003310        1\n",
              "8          9  40654.892537  55.496853  4755.825280        0\n",
              "9         10  25075.872771  39.776378  1409.230371        0\n",
              "10        11  64131.415372  25.679575  4351.028971        0\n",
              "11        12  59436.847123  60.471936  9254.244538        0\n",
              "12        13  61050.346079  26.355044  5893.264659        0\n",
              "13        14  27267.995458  61.576776  4759.787581        0\n",
              "14        15  63061.960174  39.201553  1850.369377        0\n",
              "15        16  50501.726689  40.920000  3977.287432        0\n",
              "16        17  43548.654711  39.574530  3935.544453        0\n",
              "17        18  43378.175194  60.848318  3277.737553        0\n",
              "18        19  20542.365073  61.690571  3157.442290        0\n",
              "19        20  58887.357549  26.076093  4965.516066        0\n",
              "20        21  23000.784002  31.761354  1148.118057        0\n",
              "21        22  32197.620701  40.920000  4244.057136        0\n",
              "22        23  23329.319414  48.576975   222.622299        0\n",
              "23        24  27845.800894  51.970624  4959.921226        0\n",
              "24        25  65301.984029  48.840922  5465.267886        0\n",
              "25        26  47451.630123  27.031741  5361.282716        0\n",
              "26        27  63287.038908  40.920000  9595.286289        0"
            ]
          },
          "execution_count": 32,
          "metadata": {},
          "output_type": "execute_result"
        }
      ],
      "source": [
        "base_credit.head(27)"
      ]
    },
    {
      "cell_type": "markdown",
      "metadata": {
        "id": "JpDM1Er1obkO"
      },
      "source": [
        "### Tratamento de valores faltantes"
      ]
    },
    {
      "cell_type": "code",
      "execution_count": null,
      "metadata": {
        "colab": {
          "base_uri": "https://localhost:8080/"
        },
        "id": "hEXBhxn3_r1k",
        "outputId": "7d7b64d3-e9a8-476f-b4f4-11e7b487f619"
      },
      "outputs": [
        {
          "data": {
            "text/plain": [
              "clientid    0\n",
              "income      0\n",
              "age         3\n",
              "loan        0\n",
              "default     0\n",
              "dtype: int64"
            ]
          },
          "execution_count": 34,
          "metadata": {},
          "output_type": "execute_result"
        }
      ],
      "source": [
        "base_credit.isnull().sum()"
      ]
    },
    {
      "cell_type": "code",
      "execution_count": null,
      "metadata": {
        "colab": {
          "base_uri": "https://localhost:8080/",
          "height": 143
        },
        "id": "4M4AaOAM_2a7",
        "outputId": "6af6155e-9145-4515-c317-b27feb197c95"
      },
      "outputs": [
        {
          "data": {
            "text/html": [
              "\n",
              "  <div id=\"df-c659f992-3066-423f-894d-1ead358f9dd7\">\n",
              "    <div class=\"colab-df-container\">\n",
              "      <div>\n",
              "<style scoped>\n",
              "    .dataframe tbody tr th:only-of-type {\n",
              "        vertical-align: middle;\n",
              "    }\n",
              "\n",
              "    .dataframe tbody tr th {\n",
              "        vertical-align: top;\n",
              "    }\n",
              "\n",
              "    .dataframe thead th {\n",
              "        text-align: right;\n",
              "    }\n",
              "</style>\n",
              "<table border=\"1\" class=\"dataframe\">\n",
              "  <thead>\n",
              "    <tr style=\"text-align: right;\">\n",
              "      <th></th>\n",
              "      <th>clientid</th>\n",
              "      <th>income</th>\n",
              "      <th>age</th>\n",
              "      <th>loan</th>\n",
              "      <th>default</th>\n",
              "    </tr>\n",
              "  </thead>\n",
              "  <tbody>\n",
              "    <tr>\n",
              "      <th>28</th>\n",
              "      <td>29</td>\n",
              "      <td>59417.805406</td>\n",
              "      <td>NaN</td>\n",
              "      <td>2082.625938</td>\n",
              "      <td>0</td>\n",
              "    </tr>\n",
              "    <tr>\n",
              "      <th>30</th>\n",
              "      <td>31</td>\n",
              "      <td>48528.852796</td>\n",
              "      <td>NaN</td>\n",
              "      <td>6155.784670</td>\n",
              "      <td>0</td>\n",
              "    </tr>\n",
              "    <tr>\n",
              "      <th>31</th>\n",
              "      <td>32</td>\n",
              "      <td>23526.302555</td>\n",
              "      <td>NaN</td>\n",
              "      <td>2862.010139</td>\n",
              "      <td>0</td>\n",
              "    </tr>\n",
              "  </tbody>\n",
              "</table>\n",
              "</div>\n",
              "      <button class=\"colab-df-convert\" onclick=\"convertToInteractive('df-c659f992-3066-423f-894d-1ead358f9dd7')\"\n",
              "              title=\"Convert this dataframe to an interactive table.\"\n",
              "              style=\"display:none;\">\n",
              "        \n",
              "  <svg xmlns=\"http://www.w3.org/2000/svg\" height=\"24px\"viewBox=\"0 0 24 24\"\n",
              "       width=\"24px\">\n",
              "    <path d=\"M0 0h24v24H0V0z\" fill=\"none\"/>\n",
              "    <path d=\"M18.56 5.44l.94 2.06.94-2.06 2.06-.94-2.06-.94-.94-2.06-.94 2.06-2.06.94zm-11 1L8.5 8.5l.94-2.06 2.06-.94-2.06-.94L8.5 2.5l-.94 2.06-2.06.94zm10 10l.94 2.06.94-2.06 2.06-.94-2.06-.94-.94-2.06-.94 2.06-2.06.94z\"/><path d=\"M17.41 7.96l-1.37-1.37c-.4-.4-.92-.59-1.43-.59-.52 0-1.04.2-1.43.59L10.3 9.45l-7.72 7.72c-.78.78-.78 2.05 0 2.83L4 21.41c.39.39.9.59 1.41.59.51 0 1.02-.2 1.41-.59l7.78-7.78 2.81-2.81c.8-.78.8-2.07 0-2.86zM5.41 20L4 18.59l7.72-7.72 1.47 1.35L5.41 20z\"/>\n",
              "  </svg>\n",
              "      </button>\n",
              "      \n",
              "  <style>\n",
              "    .colab-df-container {\n",
              "      display:flex;\n",
              "      flex-wrap:wrap;\n",
              "      gap: 12px;\n",
              "    }\n",
              "\n",
              "    .colab-df-convert {\n",
              "      background-color: #E8F0FE;\n",
              "      border: none;\n",
              "      border-radius: 50%;\n",
              "      cursor: pointer;\n",
              "      display: none;\n",
              "      fill: #1967D2;\n",
              "      height: 32px;\n",
              "      padding: 0 0 0 0;\n",
              "      width: 32px;\n",
              "    }\n",
              "\n",
              "    .colab-df-convert:hover {\n",
              "      background-color: #E2EBFA;\n",
              "      box-shadow: 0px 1px 2px rgba(60, 64, 67, 0.3), 0px 1px 3px 1px rgba(60, 64, 67, 0.15);\n",
              "      fill: #174EA6;\n",
              "    }\n",
              "\n",
              "    [theme=dark] .colab-df-convert {\n",
              "      background-color: #3B4455;\n",
              "      fill: #D2E3FC;\n",
              "    }\n",
              "\n",
              "    [theme=dark] .colab-df-convert:hover {\n",
              "      background-color: #434B5C;\n",
              "      box-shadow: 0px 1px 3px 1px rgba(0, 0, 0, 0.15);\n",
              "      filter: drop-shadow(0px 1px 2px rgba(0, 0, 0, 0.3));\n",
              "      fill: #FFFFFF;\n",
              "    }\n",
              "  </style>\n",
              "\n",
              "      <script>\n",
              "        const buttonEl =\n",
              "          document.querySelector('#df-c659f992-3066-423f-894d-1ead358f9dd7 button.colab-df-convert');\n",
              "        buttonEl.style.display =\n",
              "          google.colab.kernel.accessAllowed ? 'block' : 'none';\n",
              "\n",
              "        async function convertToInteractive(key) {\n",
              "          const element = document.querySelector('#df-c659f992-3066-423f-894d-1ead358f9dd7');\n",
              "          const dataTable =\n",
              "            await google.colab.kernel.invokeFunction('convertToInteractive',\n",
              "                                                     [key], {});\n",
              "          if (!dataTable) return;\n",
              "\n",
              "          const docLinkHtml = 'Like what you see? Visit the ' +\n",
              "            '<a target=\"_blank\" href=https://colab.research.google.com/notebooks/data_table.ipynb>data table notebook</a>'\n",
              "            + ' to learn more about interactive tables.';\n",
              "          element.innerHTML = '';\n",
              "          dataTable['output_type'] = 'display_data';\n",
              "          await google.colab.output.renderOutput(dataTable, element);\n",
              "          const docLink = document.createElement('div');\n",
              "          docLink.innerHTML = docLinkHtml;\n",
              "          element.appendChild(docLink);\n",
              "        }\n",
              "      </script>\n",
              "    </div>\n",
              "  </div>\n",
              "  "
            ],
            "text/plain": [
              "    clientid        income  age         loan  default\n",
              "28        29  59417.805406  NaN  2082.625938        0\n",
              "30        31  48528.852796  NaN  6155.784670        0\n",
              "31        32  23526.302555  NaN  2862.010139        0"
            ]
          },
          "execution_count": 35,
          "metadata": {},
          "output_type": "execute_result"
        }
      ],
      "source": [
        "base_credit.loc[pd.isnull(base_credit['age'])]"
      ]
    },
    {
      "cell_type": "code",
      "execution_count": null,
      "metadata": {
        "id": "M7lQBKkIAH9U"
      },
      "outputs": [],
      "source": [
        "base_credit['age'].fillna(base_credit['age'].mean(), inplace = True)"
      ]
    },
    {
      "cell_type": "code",
      "execution_count": null,
      "metadata": {
        "colab": {
          "base_uri": "https://localhost:8080/",
          "height": 49
        },
        "id": "6JOHQVtBAjLT",
        "outputId": "c5e726ca-457f-49c9-e3ba-261a875cada2"
      },
      "outputs": [
        {
          "data": {
            "text/html": [
              "\n",
              "  <div id=\"df-429ef3af-77ff-4673-8bf0-39a2514502f2\">\n",
              "    <div class=\"colab-df-container\">\n",
              "      <div>\n",
              "<style scoped>\n",
              "    .dataframe tbody tr th:only-of-type {\n",
              "        vertical-align: middle;\n",
              "    }\n",
              "\n",
              "    .dataframe tbody tr th {\n",
              "        vertical-align: top;\n",
              "    }\n",
              "\n",
              "    .dataframe thead th {\n",
              "        text-align: right;\n",
              "    }\n",
              "</style>\n",
              "<table border=\"1\" class=\"dataframe\">\n",
              "  <thead>\n",
              "    <tr style=\"text-align: right;\">\n",
              "      <th></th>\n",
              "      <th>clientid</th>\n",
              "      <th>income</th>\n",
              "      <th>age</th>\n",
              "      <th>loan</th>\n",
              "      <th>default</th>\n",
              "    </tr>\n",
              "  </thead>\n",
              "  <tbody>\n",
              "  </tbody>\n",
              "</table>\n",
              "</div>\n",
              "      <button class=\"colab-df-convert\" onclick=\"convertToInteractive('df-429ef3af-77ff-4673-8bf0-39a2514502f2')\"\n",
              "              title=\"Convert this dataframe to an interactive table.\"\n",
              "              style=\"display:none;\">\n",
              "        \n",
              "  <svg xmlns=\"http://www.w3.org/2000/svg\" height=\"24px\"viewBox=\"0 0 24 24\"\n",
              "       width=\"24px\">\n",
              "    <path d=\"M0 0h24v24H0V0z\" fill=\"none\"/>\n",
              "    <path d=\"M18.56 5.44l.94 2.06.94-2.06 2.06-.94-2.06-.94-.94-2.06-.94 2.06-2.06.94zm-11 1L8.5 8.5l.94-2.06 2.06-.94-2.06-.94L8.5 2.5l-.94 2.06-2.06.94zm10 10l.94 2.06.94-2.06 2.06-.94-2.06-.94-.94-2.06-.94 2.06-2.06.94z\"/><path d=\"M17.41 7.96l-1.37-1.37c-.4-.4-.92-.59-1.43-.59-.52 0-1.04.2-1.43.59L10.3 9.45l-7.72 7.72c-.78.78-.78 2.05 0 2.83L4 21.41c.39.39.9.59 1.41.59.51 0 1.02-.2 1.41-.59l7.78-7.78 2.81-2.81c.8-.78.8-2.07 0-2.86zM5.41 20L4 18.59l7.72-7.72 1.47 1.35L5.41 20z\"/>\n",
              "  </svg>\n",
              "      </button>\n",
              "      \n",
              "  <style>\n",
              "    .colab-df-container {\n",
              "      display:flex;\n",
              "      flex-wrap:wrap;\n",
              "      gap: 12px;\n",
              "    }\n",
              "\n",
              "    .colab-df-convert {\n",
              "      background-color: #E8F0FE;\n",
              "      border: none;\n",
              "      border-radius: 50%;\n",
              "      cursor: pointer;\n",
              "      display: none;\n",
              "      fill: #1967D2;\n",
              "      height: 32px;\n",
              "      padding: 0 0 0 0;\n",
              "      width: 32px;\n",
              "    }\n",
              "\n",
              "    .colab-df-convert:hover {\n",
              "      background-color: #E2EBFA;\n",
              "      box-shadow: 0px 1px 2px rgba(60, 64, 67, 0.3), 0px 1px 3px 1px rgba(60, 64, 67, 0.15);\n",
              "      fill: #174EA6;\n",
              "    }\n",
              "\n",
              "    [theme=dark] .colab-df-convert {\n",
              "      background-color: #3B4455;\n",
              "      fill: #D2E3FC;\n",
              "    }\n",
              "\n",
              "    [theme=dark] .colab-df-convert:hover {\n",
              "      background-color: #434B5C;\n",
              "      box-shadow: 0px 1px 3px 1px rgba(0, 0, 0, 0.15);\n",
              "      filter: drop-shadow(0px 1px 2px rgba(0, 0, 0, 0.3));\n",
              "      fill: #FFFFFF;\n",
              "    }\n",
              "  </style>\n",
              "\n",
              "      <script>\n",
              "        const buttonEl =\n",
              "          document.querySelector('#df-429ef3af-77ff-4673-8bf0-39a2514502f2 button.colab-df-convert');\n",
              "        buttonEl.style.display =\n",
              "          google.colab.kernel.accessAllowed ? 'block' : 'none';\n",
              "\n",
              "        async function convertToInteractive(key) {\n",
              "          const element = document.querySelector('#df-429ef3af-77ff-4673-8bf0-39a2514502f2');\n",
              "          const dataTable =\n",
              "            await google.colab.kernel.invokeFunction('convertToInteractive',\n",
              "                                                     [key], {});\n",
              "          if (!dataTable) return;\n",
              "\n",
              "          const docLinkHtml = 'Like what you see? Visit the ' +\n",
              "            '<a target=\"_blank\" href=https://colab.research.google.com/notebooks/data_table.ipynb>data table notebook</a>'\n",
              "            + ' to learn more about interactive tables.';\n",
              "          element.innerHTML = '';\n",
              "          dataTable['output_type'] = 'display_data';\n",
              "          await google.colab.output.renderOutput(dataTable, element);\n",
              "          const docLink = document.createElement('div');\n",
              "          docLink.innerHTML = docLinkHtml;\n",
              "          element.appendChild(docLink);\n",
              "        }\n",
              "      </script>\n",
              "    </div>\n",
              "  </div>\n",
              "  "
            ],
            "text/plain": [
              "Empty DataFrame\n",
              "Columns: [clientid, income, age, loan, default]\n",
              "Index: []"
            ]
          },
          "execution_count": 37,
          "metadata": {},
          "output_type": "execute_result"
        }
      ],
      "source": [
        "base_credit.loc[pd.isnull(base_credit['age'])]"
      ]
    },
    {
      "cell_type": "code",
      "execution_count": null,
      "metadata": {
        "colab": {
          "base_uri": "https://localhost:8080/",
          "height": 143
        },
        "id": "h25oSZkQA6Sr",
        "outputId": "97b138e2-91d9-4fda-e689-ab011c74c4fd"
      },
      "outputs": [
        {
          "data": {
            "text/html": [
              "\n",
              "  <div id=\"df-27ac7dcd-98c7-4d8a-975d-82a462b60e4f\">\n",
              "    <div class=\"colab-df-container\">\n",
              "      <div>\n",
              "<style scoped>\n",
              "    .dataframe tbody tr th:only-of-type {\n",
              "        vertical-align: middle;\n",
              "    }\n",
              "\n",
              "    .dataframe tbody tr th {\n",
              "        vertical-align: top;\n",
              "    }\n",
              "\n",
              "    .dataframe thead th {\n",
              "        text-align: right;\n",
              "    }\n",
              "</style>\n",
              "<table border=\"1\" class=\"dataframe\">\n",
              "  <thead>\n",
              "    <tr style=\"text-align: right;\">\n",
              "      <th></th>\n",
              "      <th>clientid</th>\n",
              "      <th>income</th>\n",
              "      <th>age</th>\n",
              "      <th>loan</th>\n",
              "      <th>default</th>\n",
              "    </tr>\n",
              "  </thead>\n",
              "  <tbody>\n",
              "    <tr>\n",
              "      <th>28</th>\n",
              "      <td>29</td>\n",
              "      <td>59417.805406</td>\n",
              "      <td>40.927689</td>\n",
              "      <td>2082.625938</td>\n",
              "      <td>0</td>\n",
              "    </tr>\n",
              "    <tr>\n",
              "      <th>30</th>\n",
              "      <td>31</td>\n",
              "      <td>48528.852796</td>\n",
              "      <td>40.927689</td>\n",
              "      <td>6155.784670</td>\n",
              "      <td>0</td>\n",
              "    </tr>\n",
              "    <tr>\n",
              "      <th>31</th>\n",
              "      <td>32</td>\n",
              "      <td>23526.302555</td>\n",
              "      <td>40.927689</td>\n",
              "      <td>2862.010139</td>\n",
              "      <td>0</td>\n",
              "    </tr>\n",
              "  </tbody>\n",
              "</table>\n",
              "</div>\n",
              "      <button class=\"colab-df-convert\" onclick=\"convertToInteractive('df-27ac7dcd-98c7-4d8a-975d-82a462b60e4f')\"\n",
              "              title=\"Convert this dataframe to an interactive table.\"\n",
              "              style=\"display:none;\">\n",
              "        \n",
              "  <svg xmlns=\"http://www.w3.org/2000/svg\" height=\"24px\"viewBox=\"0 0 24 24\"\n",
              "       width=\"24px\">\n",
              "    <path d=\"M0 0h24v24H0V0z\" fill=\"none\"/>\n",
              "    <path d=\"M18.56 5.44l.94 2.06.94-2.06 2.06-.94-2.06-.94-.94-2.06-.94 2.06-2.06.94zm-11 1L8.5 8.5l.94-2.06 2.06-.94-2.06-.94L8.5 2.5l-.94 2.06-2.06.94zm10 10l.94 2.06.94-2.06 2.06-.94-2.06-.94-.94-2.06-.94 2.06-2.06.94z\"/><path d=\"M17.41 7.96l-1.37-1.37c-.4-.4-.92-.59-1.43-.59-.52 0-1.04.2-1.43.59L10.3 9.45l-7.72 7.72c-.78.78-.78 2.05 0 2.83L4 21.41c.39.39.9.59 1.41.59.51 0 1.02-.2 1.41-.59l7.78-7.78 2.81-2.81c.8-.78.8-2.07 0-2.86zM5.41 20L4 18.59l7.72-7.72 1.47 1.35L5.41 20z\"/>\n",
              "  </svg>\n",
              "      </button>\n",
              "      \n",
              "  <style>\n",
              "    .colab-df-container {\n",
              "      display:flex;\n",
              "      flex-wrap:wrap;\n",
              "      gap: 12px;\n",
              "    }\n",
              "\n",
              "    .colab-df-convert {\n",
              "      background-color: #E8F0FE;\n",
              "      border: none;\n",
              "      border-radius: 50%;\n",
              "      cursor: pointer;\n",
              "      display: none;\n",
              "      fill: #1967D2;\n",
              "      height: 32px;\n",
              "      padding: 0 0 0 0;\n",
              "      width: 32px;\n",
              "    }\n",
              "\n",
              "    .colab-df-convert:hover {\n",
              "      background-color: #E2EBFA;\n",
              "      box-shadow: 0px 1px 2px rgba(60, 64, 67, 0.3), 0px 1px 3px 1px rgba(60, 64, 67, 0.15);\n",
              "      fill: #174EA6;\n",
              "    }\n",
              "\n",
              "    [theme=dark] .colab-df-convert {\n",
              "      background-color: #3B4455;\n",
              "      fill: #D2E3FC;\n",
              "    }\n",
              "\n",
              "    [theme=dark] .colab-df-convert:hover {\n",
              "      background-color: #434B5C;\n",
              "      box-shadow: 0px 1px 3px 1px rgba(0, 0, 0, 0.15);\n",
              "      filter: drop-shadow(0px 1px 2px rgba(0, 0, 0, 0.3));\n",
              "      fill: #FFFFFF;\n",
              "    }\n",
              "  </style>\n",
              "\n",
              "      <script>\n",
              "        const buttonEl =\n",
              "          document.querySelector('#df-27ac7dcd-98c7-4d8a-975d-82a462b60e4f button.colab-df-convert');\n",
              "        buttonEl.style.display =\n",
              "          google.colab.kernel.accessAllowed ? 'block' : 'none';\n",
              "\n",
              "        async function convertToInteractive(key) {\n",
              "          const element = document.querySelector('#df-27ac7dcd-98c7-4d8a-975d-82a462b60e4f');\n",
              "          const dataTable =\n",
              "            await google.colab.kernel.invokeFunction('convertToInteractive',\n",
              "                                                     [key], {});\n",
              "          if (!dataTable) return;\n",
              "\n",
              "          const docLinkHtml = 'Like what you see? Visit the ' +\n",
              "            '<a target=\"_blank\" href=https://colab.research.google.com/notebooks/data_table.ipynb>data table notebook</a>'\n",
              "            + ' to learn more about interactive tables.';\n",
              "          element.innerHTML = '';\n",
              "          dataTable['output_type'] = 'display_data';\n",
              "          await google.colab.output.renderOutput(dataTable, element);\n",
              "          const docLink = document.createElement('div');\n",
              "          docLink.innerHTML = docLinkHtml;\n",
              "          element.appendChild(docLink);\n",
              "        }\n",
              "      </script>\n",
              "    </div>\n",
              "  </div>\n",
              "  "
            ],
            "text/plain": [
              "    clientid        income        age         loan  default\n",
              "28        29  59417.805406  40.927689  2082.625938        0\n",
              "30        31  48528.852796  40.927689  6155.784670        0\n",
              "31        32  23526.302555  40.927689  2862.010139        0"
            ]
          },
          "execution_count": 39,
          "metadata": {},
          "output_type": "execute_result"
        }
      ],
      "source": [
        "base_credit.loc[base_credit['clientid'].isin([29, 31, 32])]"
      ]
    },
    {
      "cell_type": "markdown",
      "metadata": {
        "id": "cOSLRdDEsWFx"
      },
      "source": [
        "### Divisão entre previsores e classe"
      ]
    },
    {
      "cell_type": "code",
      "execution_count": null,
      "metadata": {
        "colab": {
          "base_uri": "https://localhost:8080/"
        },
        "id": "ReMHYZlvC1tt",
        "outputId": "8adaea4b-2ac4-4910-9f54-deae1c317f05"
      },
      "outputs": [
        {
          "data": {
            "text/plain": [
              "pandas.core.frame.DataFrame"
            ]
          },
          "execution_count": 40,
          "metadata": {},
          "output_type": "execute_result"
        }
      ],
      "source": [
        "type(base_credit)"
      ]
    },
    {
      "cell_type": "code",
      "execution_count": null,
      "metadata": {
        "id": "JeE1xaPHB_vo"
      },
      "outputs": [],
      "source": [
        "X_credit = base_credit.iloc[:, 1:4].values"
      ]
    },
    {
      "cell_type": "code",
      "execution_count": null,
      "metadata": {
        "colab": {
          "base_uri": "https://localhost:8080/"
        },
        "id": "INAZxMaDCr20",
        "outputId": "1e43365f-c7db-4cc5-e3b1-5060f4227eea"
      },
      "outputs": [
        {
          "data": {
            "text/plain": [
              "array([[6.61559251e+04, 5.90170151e+01, 8.10653213e+03],\n",
              "       [3.44151540e+04, 4.81171531e+01, 6.56474502e+03],\n",
              "       [5.73171701e+04, 6.31080495e+01, 8.02095330e+03],\n",
              "       ...,\n",
              "       [4.43114493e+04, 2.80171669e+01, 5.52278669e+03],\n",
              "       [4.37560566e+04, 6.39717958e+01, 1.62272260e+03],\n",
              "       [6.94365796e+04, 5.61526170e+01, 7.37883360e+03]])"
            ]
          },
          "execution_count": 42,
          "metadata": {},
          "output_type": "execute_result"
        }
      ],
      "source": [
        "X_credit"
      ]
    },
    {
      "cell_type": "code",
      "execution_count": null,
      "metadata": {
        "colab": {
          "base_uri": "https://localhost:8080/"
        },
        "id": "TM48eNGdCy1k",
        "outputId": "2676ac28-ea7c-43ec-928c-f1f311f629d7"
      },
      "outputs": [
        {
          "data": {
            "text/plain": [
              "numpy.ndarray"
            ]
          },
          "execution_count": 43,
          "metadata": {},
          "output_type": "execute_result"
        }
      ],
      "source": [
        "type(X_credit)"
      ]
    },
    {
      "cell_type": "code",
      "execution_count": null,
      "metadata": {
        "id": "usDHmfBTC64Y"
      },
      "outputs": [],
      "source": [
        "y_credit = base_credit.iloc[:, 4].values"
      ]
    },
    {
      "cell_type": "code",
      "execution_count": null,
      "metadata": {
        "colab": {
          "base_uri": "https://localhost:8080/"
        },
        "id": "2_XXNWDVDDRE",
        "outputId": "e6585a34-e40c-4aa1-9516-ee0ad9286e01"
      },
      "outputs": [
        {
          "data": {
            "text/plain": [
              "array([0, 0, 0, ..., 1, 0, 0])"
            ]
          },
          "execution_count": 45,
          "metadata": {},
          "output_type": "execute_result"
        }
      ],
      "source": [
        "y_credit"
      ]
    },
    {
      "cell_type": "code",
      "execution_count": null,
      "metadata": {
        "colab": {
          "base_uri": "https://localhost:8080/"
        },
        "id": "0h552IwQDG14",
        "outputId": "e0e138c0-a56d-4c90-c479-358dadd17353"
      },
      "outputs": [
        {
          "data": {
            "text/plain": [
              "numpy.ndarray"
            ]
          },
          "execution_count": 46,
          "metadata": {},
          "output_type": "execute_result"
        }
      ],
      "source": [
        "type(y_credit)"
      ]
    },
    {
      "cell_type": "markdown",
      "metadata": {
        "id": "S_jbxLwqu4fQ"
      },
      "source": [
        "### Escalonamento dos valores"
      ]
    },
    {
      "cell_type": "code",
      "execution_count": null,
      "metadata": {
        "colab": {
          "base_uri": "https://localhost:8080/"
        },
        "id": "EM6wEXhQFP4u",
        "outputId": "5932571c-3a7a-46e9-9084-dcbc396eba0f"
      },
      "outputs": [
        {
          "data": {
            "text/plain": [
              "array([[6.61559251e+04, 5.90170151e+01, 8.10653213e+03],\n",
              "       [3.44151540e+04, 4.81171531e+01, 6.56474502e+03],\n",
              "       [5.73171701e+04, 6.31080495e+01, 8.02095330e+03],\n",
              "       ...,\n",
              "       [4.43114493e+04, 2.80171669e+01, 5.52278669e+03],\n",
              "       [4.37560566e+04, 6.39717958e+01, 1.62272260e+03],\n",
              "       [6.94365796e+04, 5.61526170e+01, 7.37883360e+03]])"
            ]
          },
          "execution_count": 47,
          "metadata": {},
          "output_type": "execute_result"
        }
      ],
      "source": [
        "X_credit"
      ]
    },
    {
      "cell_type": "code",
      "execution_count": null,
      "metadata": {
        "colab": {
          "base_uri": "https://localhost:8080/"
        },
        "id": "Hg3f5RV6FZwl",
        "outputId": "e8a48bf8-f6c4-44be-bb39-98e7c9a1f284"
      },
      "outputs": [
        {
          "data": {
            "text/plain": [
              "(20014.4894700497, 18.055188510566897, 1.37762959325451)"
            ]
          },
          "execution_count": 48,
          "metadata": {},
          "output_type": "execute_result"
        }
      ],
      "source": [
        "X_credit[:,0].min(), X_credit[:,1].min(), X_credit[:,2].min()"
      ]
    },
    {
      "cell_type": "code",
      "execution_count": null,
      "metadata": {
        "colab": {
          "base_uri": "https://localhost:8080/"
        },
        "id": "GCaRQEI6Fj65",
        "outputId": "cf1defe0-011c-4db8-b300-8bfc16f1189c"
      },
      "outputs": [
        {
          "data": {
            "text/plain": [
              "(69995.6855783239, 63.971795841120205, 13766.0512393337)"
            ]
          },
          "execution_count": 49,
          "metadata": {},
          "output_type": "execute_result"
        }
      ],
      "source": [
        "X_credit[:,0].max(), X_credit[:,1].max(), X_credit[:,2].max()"
      ]
    },
    {
      "cell_type": "code",
      "execution_count": null,
      "metadata": {
        "id": "kIwl_pfBHAOX"
      },
      "outputs": [],
      "source": [
        "from sklearn.preprocessing import StandardScaler\n",
        "scaler_credit = StandardScaler()\n",
        "X_credit = scaler_credit.fit_transform(X_credit)"
      ]
    },
    {
      "cell_type": "code",
      "execution_count": null,
      "metadata": {
        "colab": {
          "base_uri": "https://localhost:8080/"
        },
        "id": "UrCwoukQHS8L",
        "outputId": "201c73b6-75ca-4bad-d545-2b10e1e1a298"
      },
      "outputs": [
        {
          "data": {
            "text/plain": [
              "(-1.7676158019964077, -1.7264145408889917, -1.4592791099462408)"
            ]
          },
          "execution_count": 51,
          "metadata": {},
          "output_type": "execute_result"
        }
      ],
      "source": [
        "X_credit[:,0].min(), X_credit[:,1].min(), X_credit[:,2].min()"
      ]
    },
    {
      "cell_type": "code",
      "execution_count": null,
      "metadata": {
        "colab": {
          "base_uri": "https://localhost:8080/"
        },
        "id": "w8IGh3S-HdDi",
        "outputId": "4421e67f-528e-461f-a7cf-75fd589d3ce7"
      },
      "outputs": [
        {
          "data": {
            "text/plain": [
              "(1.7220222385319197, 1.7393673928651967, 3.0616609141708273)"
            ]
          },
          "execution_count": 52,
          "metadata": {},
          "output_type": "execute_result"
        }
      ],
      "source": [
        "X_credit[:,0].max(), X_credit[:,1].max(), X_credit[:,2].max()"
      ]
    },
    {
      "cell_type": "code",
      "execution_count": null,
      "metadata": {
        "colab": {
          "base_uri": "https://localhost:8080/"
        },
        "id": "4VyQztFtHlYa",
        "outputId": "d5295950-9ea1-43f3-8860-9fef17f0df4b"
      },
      "outputs": [
        {
          "data": {
            "text/plain": [
              "array([[ 1.45393393,  1.36538093,  1.20281942],\n",
              "       [-0.76217555,  0.5426602 ,  0.69642695],\n",
              "       [ 0.83682073,  1.67417189,  1.17471147],\n",
              "       ...,\n",
              "       [-0.07122592, -0.97448519,  0.35420081],\n",
              "       [-0.11000289,  1.73936739, -0.92675625],\n",
              "       [ 1.682986  ,  1.14917639,  0.96381038]])"
            ]
          },
          "execution_count": 53,
          "metadata": {},
          "output_type": "execute_result"
        }
      ],
      "source": [
        "X_credit"
      ]
    },
    {
      "cell_type": "markdown",
      "metadata": {
        "id": "NBXkHsxg6tcI"
      },
      "source": [
        "# Divisão das bases em treinamento e teste"
      ]
    },
    {
      "cell_type": "code",
      "execution_count": null,
      "metadata": {
        "id": "0HPHvvv-eRAK"
      },
      "outputs": [],
      "source": [
        "from sklearn.model_selection import train_test_split"
      ]
    },
    {
      "cell_type": "code",
      "execution_count": null,
      "metadata": {
        "id": "YglWGPdjeXb1"
      },
      "outputs": [],
      "source": [
        "X_credit_treinamento, X_credit_teste, y_credit_treinamento, y_credit_teste = train_test_split(X_credit, y_credit, test_size = 0.25, random_state = 0)"
      ]
    },
    {
      "cell_type": "code",
      "execution_count": null,
      "metadata": {
        "colab": {
          "base_uri": "https://localhost:8080/"
        },
        "id": "OcUWH-xTfAC3",
        "outputId": "02688b39-284f-49ec-ab59-958345966c69"
      },
      "outputs": [
        {
          "data": {
            "text/plain": [
              "(1500, 3)"
            ]
          },
          "execution_count": 97,
          "metadata": {},
          "output_type": "execute_result"
        }
      ],
      "source": [
        "X_credit_treinamento.shape"
      ]
    },
    {
      "cell_type": "code",
      "execution_count": null,
      "metadata": {
        "colab": {
          "base_uri": "https://localhost:8080/"
        },
        "id": "7v1NiPemfL4g",
        "outputId": "d76cdebe-41a1-4e91-92d8-d32f455ad29b"
      },
      "outputs": [
        {
          "data": {
            "text/plain": [
              "(1500,)"
            ]
          },
          "execution_count": 98,
          "metadata": {},
          "output_type": "execute_result"
        }
      ],
      "source": [
        "y_credit_treinamento.shape"
      ]
    },
    {
      "cell_type": "code",
      "execution_count": null,
      "metadata": {
        "colab": {
          "base_uri": "https://localhost:8080/"
        },
        "id": "iuf-gKIvfR2f",
        "outputId": "0b9690b8-3285-4882-ac04-3c3331191e06"
      },
      "outputs": [
        {
          "data": {
            "text/plain": [
              "((500, 3), (500,))"
            ]
          },
          "execution_count": 99,
          "metadata": {},
          "output_type": "execute_result"
        }
      ],
      "source": [
        "X_credit_teste.shape, y_credit_teste.shape"
      ]
    },
    {
      "cell_type": "markdown",
      "metadata": {
        "id": "Oi9qbert8aMv"
      },
      "source": [
        "## Salvar as variáveis"
      ]
    },
    {
      "cell_type": "code",
      "execution_count": null,
      "metadata": {
        "id": "Vn6R_DKHhG0u"
      },
      "outputs": [],
      "source": [
        "import pickle"
      ]
    },
    {
      "cell_type": "code",
      "execution_count": null,
      "metadata": {
        "id": "7bcjVkwqhLpY"
      },
      "outputs": [],
      "source": [
        "with open('credit.pkl', mode = 'wb') as f:\n",
        "  pickle.dump([X_credit_treinamento, y_credit_treinamento, X_credit_teste, y_credit_teste], f)"
      ]
    },
    {
      "cell_type": "markdown",
      "metadata": {
        "id": "fSNUSSeOhqAd"
      },
      "source": [
        "# Implementação da Rede Neural"
      ]
    },
    {
      "cell_type": "code",
      "execution_count": null,
      "metadata": {
        "id": "FvdcLLQLnFIW"
      },
      "outputs": [],
      "source": [
        "from sklearn.neural_network import MLPClassifier"
      ]
    },
    {
      "cell_type": "markdown",
      "source": [
        "### Treinamento da Rede Neural"
      ],
      "metadata": {
        "id": "8qVdseZaC5Qr"
      }
    },
    {
      "cell_type": "code",
      "execution_count": null,
      "metadata": {
        "id": "C6uL7hyzm8Dd"
      },
      "outputs": [],
      "source": [
        "import pickle\n",
        "with open('credit.pkl', 'rb') as f:  \n",
        "  X_credit_treinamento, y_credit_treinamento, X_credit_teste, y_credit_teste = pickle.load(f)"
      ]
    },
    {
      "cell_type": "code",
      "execution_count": null,
      "metadata": {
        "colab": {
          "base_uri": "https://localhost:8080/"
        },
        "id": "SIVKNjPom-Dr",
        "outputId": "89fb5c71-7134-44fa-c849-1c9aa79f6f57"
      },
      "outputs": [
        {
          "data": {
            "text/plain": [
              "((1500, 3), (1500,))"
            ]
          },
          "execution_count": 300,
          "metadata": {},
          "output_type": "execute_result"
        }
      ],
      "source": [
        "X_credit_treinamento.shape, y_credit_treinamento.shape"
      ]
    },
    {
      "cell_type": "code",
      "execution_count": null,
      "metadata": {
        "colab": {
          "base_uri": "https://localhost:8080/"
        },
        "id": "Df5EfDyjnAB6",
        "outputId": "51412d26-05a6-41dd-8937-e8e91c223161"
      },
      "outputs": [
        {
          "data": {
            "text/plain": [
              "((500, 3), (500,))"
            ]
          },
          "execution_count": 301,
          "metadata": {},
          "output_type": "execute_result"
        }
      ],
      "source": [
        "X_credit_teste.shape, y_credit_teste.shape"
      ]
    },
    {
      "cell_type": "code",
      "execution_count": null,
      "metadata": {
        "colab": {
          "base_uri": "https://localhost:8080/"
        },
        "id": "BCGNa_d8nYOf",
        "outputId": "62e326f1-1841-4386-90c2-cb97a5458876"
      },
      "outputs": [
        {
          "name": "stdout",
          "output_type": "stream",
          "text": [
            "Iteration 1, loss = 0.69563102\n",
            "Iteration 2, loss = 0.64199931\n",
            "Iteration 3, loss = 0.59739529\n",
            "Iteration 4, loss = 0.55861946\n",
            "Iteration 5, loss = 0.52415105\n",
            "Iteration 6, loss = 0.49268361\n",
            "Iteration 7, loss = 0.46342175\n",
            "Iteration 8, loss = 0.43565040\n",
            "Iteration 9, loss = 0.40861794\n",
            "Iteration 10, loss = 0.38197692\n",
            "Iteration 11, loss = 0.35631328\n",
            "Iteration 12, loss = 0.33223738\n",
            "Iteration 13, loss = 0.30960538\n",
            "Iteration 14, loss = 0.28868836\n",
            "Iteration 15, loss = 0.26879630\n",
            "Iteration 16, loss = 0.25040226\n",
            "Iteration 17, loss = 0.23353503\n",
            "Iteration 18, loss = 0.21834154\n",
            "Iteration 19, loss = 0.20414498\n",
            "Iteration 20, loss = 0.19187713\n",
            "Iteration 21, loss = 0.18034719\n",
            "Iteration 22, loss = 0.17013913\n",
            "Iteration 23, loss = 0.16090659\n",
            "Iteration 24, loss = 0.15265189\n",
            "Iteration 25, loss = 0.14517457\n",
            "Iteration 26, loss = 0.13862123\n",
            "Iteration 27, loss = 0.13267472\n",
            "Iteration 28, loss = 0.12730252\n",
            "Iteration 29, loss = 0.12242248\n",
            "Iteration 30, loss = 0.11802243\n",
            "Iteration 31, loss = 0.11393696\n",
            "Iteration 32, loss = 0.11035122\n",
            "Iteration 33, loss = 0.10717059\n",
            "Iteration 34, loss = 0.10415624\n",
            "Iteration 35, loss = 0.10141304\n",
            "Iteration 36, loss = 0.09898186\n",
            "Iteration 37, loss = 0.09639900\n",
            "Iteration 38, loss = 0.09422499\n",
            "Iteration 39, loss = 0.09212882\n",
            "Iteration 40, loss = 0.09015680\n",
            "Iteration 41, loss = 0.08833770\n",
            "Iteration 42, loss = 0.08653411\n",
            "Iteration 43, loss = 0.08479415\n",
            "Iteration 44, loss = 0.08318081\n",
            "Iteration 45, loss = 0.08172366\n",
            "Iteration 46, loss = 0.08021279\n",
            "Iteration 47, loss = 0.07887650\n",
            "Iteration 48, loss = 0.07734999\n",
            "Iteration 49, loss = 0.07603770\n",
            "Iteration 50, loss = 0.07485928\n",
            "Iteration 51, loss = 0.07359342\n",
            "Iteration 52, loss = 0.07241261\n",
            "Iteration 53, loss = 0.07113493\n",
            "Iteration 54, loss = 0.06990945\n",
            "Iteration 55, loss = 0.06874182\n",
            "Iteration 56, loss = 0.06730819\n",
            "Iteration 57, loss = 0.06599520\n",
            "Iteration 58, loss = 0.06474169\n",
            "Iteration 59, loss = 0.06339406\n",
            "Iteration 60, loss = 0.06236851\n",
            "Iteration 61, loss = 0.06097315\n",
            "Iteration 62, loss = 0.05996020\n",
            "Iteration 63, loss = 0.05896209\n",
            "Iteration 64, loss = 0.05786071\n",
            "Iteration 65, loss = 0.05694569\n",
            "Iteration 66, loss = 0.05600704\n",
            "Iteration 67, loss = 0.05514040\n",
            "Iteration 68, loss = 0.05417726\n",
            "Iteration 69, loss = 0.05343125\n",
            "Iteration 70, loss = 0.05256729\n",
            "Iteration 71, loss = 0.05174548\n",
            "Iteration 72, loss = 0.05098241\n",
            "Iteration 73, loss = 0.05013997\n",
            "Iteration 74, loss = 0.04942423\n",
            "Iteration 75, loss = 0.04885300\n",
            "Iteration 76, loss = 0.04798777\n",
            "Iteration 77, loss = 0.04730225\n",
            "Iteration 78, loss = 0.04679511\n",
            "Iteration 79, loss = 0.04603224\n",
            "Iteration 80, loss = 0.04534835\n",
            "Iteration 81, loss = 0.04463814\n",
            "Iteration 82, loss = 0.04399022\n",
            "Iteration 83, loss = 0.04344426\n",
            "Iteration 84, loss = 0.04285297\n",
            "Iteration 85, loss = 0.04227912\n",
            "Iteration 86, loss = 0.04167021\n",
            "Iteration 87, loss = 0.04114668\n",
            "Iteration 88, loss = 0.04052731\n",
            "Iteration 89, loss = 0.04004709\n",
            "Iteration 90, loss = 0.03942249\n",
            "Iteration 91, loss = 0.03900225\n",
            "Iteration 92, loss = 0.03845060\n",
            "Iteration 93, loss = 0.03804958\n",
            "Iteration 94, loss = 0.03747574\n",
            "Iteration 95, loss = 0.03705860\n",
            "Iteration 96, loss = 0.03652939\n",
            "Iteration 97, loss = 0.03602683\n",
            "Iteration 98, loss = 0.03556547\n",
            "Iteration 99, loss = 0.03519259\n",
            "Iteration 100, loss = 0.03471345\n",
            "Iteration 101, loss = 0.03419047\n",
            "Iteration 102, loss = 0.03381431\n",
            "Iteration 103, loss = 0.03333985\n",
            "Iteration 104, loss = 0.03294446\n",
            "Iteration 105, loss = 0.03252561\n",
            "Iteration 106, loss = 0.03220166\n",
            "Iteration 107, loss = 0.03161357\n",
            "Iteration 108, loss = 0.03122787\n",
            "Iteration 109, loss = 0.03087067\n",
            "Iteration 110, loss = 0.03040846\n",
            "Iteration 111, loss = 0.03027931\n",
            "Iteration 112, loss = 0.02969753\n",
            "Iteration 113, loss = 0.02959281\n",
            "Iteration 114, loss = 0.02899508\n",
            "Iteration 115, loss = 0.02866885\n",
            "Iteration 116, loss = 0.02850542\n",
            "Iteration 117, loss = 0.02823450\n",
            "Iteration 118, loss = 0.02778357\n",
            "Iteration 119, loss = 0.02745708\n",
            "Iteration 120, loss = 0.02713565\n",
            "Iteration 121, loss = 0.02684208\n",
            "Iteration 122, loss = 0.02663336\n",
            "Iteration 123, loss = 0.02626788\n",
            "Iteration 124, loss = 0.02607934\n",
            "Iteration 125, loss = 0.02568176\n",
            "Iteration 126, loss = 0.02538577\n",
            "Iteration 127, loss = 0.02521144\n",
            "Iteration 128, loss = 0.02489558\n",
            "Iteration 129, loss = 0.02460481\n",
            "Iteration 130, loss = 0.02431082\n",
            "Iteration 131, loss = 0.02401302\n",
            "Iteration 132, loss = 0.02371768\n",
            "Iteration 133, loss = 0.02354522\n",
            "Iteration 134, loss = 0.02324261\n",
            "Iteration 135, loss = 0.02295695\n",
            "Iteration 136, loss = 0.02271277\n",
            "Iteration 137, loss = 0.02251033\n",
            "Iteration 138, loss = 0.02230054\n",
            "Iteration 139, loss = 0.02202537\n",
            "Iteration 140, loss = 0.02181097\n",
            "Iteration 141, loss = 0.02155395\n",
            "Iteration 142, loss = 0.02130890\n",
            "Iteration 143, loss = 0.02115675\n",
            "Iteration 144, loss = 0.02095499\n",
            "Iteration 145, loss = 0.02080527\n",
            "Iteration 146, loss = 0.02055449\n",
            "Iteration 147, loss = 0.02020430\n",
            "Iteration 148, loss = 0.02017612\n",
            "Iteration 149, loss = 0.01997200\n",
            "Iteration 150, loss = 0.01991583\n",
            "Iteration 151, loss = 0.01963105\n",
            "Iteration 152, loss = 0.01939818\n",
            "Iteration 153, loss = 0.01926611\n",
            "Iteration 154, loss = 0.01906530\n",
            "Iteration 155, loss = 0.01897560\n",
            "Iteration 156, loss = 0.01871979\n",
            "Iteration 157, loss = 0.01857384\n",
            "Iteration 158, loss = 0.01838620\n",
            "Iteration 159, loss = 0.01822246\n",
            "Iteration 160, loss = 0.01810623\n",
            "Iteration 161, loss = 0.01799767\n",
            "Iteration 162, loss = 0.01781558\n",
            "Iteration 163, loss = 0.01762274\n",
            "Iteration 164, loss = 0.01740221\n",
            "Iteration 165, loss = 0.01735463\n",
            "Iteration 166, loss = 0.01708736\n",
            "Iteration 167, loss = 0.01705619\n",
            "Iteration 168, loss = 0.01701242\n",
            "Iteration 169, loss = 0.01671360\n",
            "Iteration 170, loss = 0.01670004\n",
            "Iteration 171, loss = 0.01647192\n",
            "Iteration 172, loss = 0.01638068\n",
            "Iteration 173, loss = 0.01624162\n",
            "Iteration 174, loss = 0.01606447\n",
            "Iteration 175, loss = 0.01620046\n",
            "Iteration 176, loss = 0.01592600\n",
            "Iteration 177, loss = 0.01575832\n",
            "Iteration 178, loss = 0.01560869\n",
            "Iteration 179, loss = 0.01545388\n",
            "Iteration 180, loss = 0.01538643\n",
            "Iteration 181, loss = 0.01524260\n",
            "Iteration 182, loss = 0.01524223\n",
            "Iteration 183, loss = 0.01501152\n",
            "Iteration 184, loss = 0.01500906\n",
            "Iteration 185, loss = 0.01485299\n",
            "Iteration 186, loss = 0.01474207\n",
            "Iteration 187, loss = 0.01475671\n",
            "Iteration 188, loss = 0.01447220\n",
            "Iteration 189, loss = 0.01441952\n",
            "Iteration 190, loss = 0.01430936\n",
            "Iteration 191, loss = 0.01425552\n",
            "Iteration 192, loss = 0.01404934\n",
            "Iteration 193, loss = 0.01414359\n",
            "Iteration 194, loss = 0.01396411\n",
            "Iteration 195, loss = 0.01381940\n",
            "Iteration 196, loss = 0.01375314\n",
            "Iteration 197, loss = 0.01372804\n",
            "Iteration 198, loss = 0.01375760\n",
            "Iteration 199, loss = 0.01336520\n",
            "Iteration 200, loss = 0.01349729\n",
            "Iteration 201, loss = 0.01343407\n",
            "Iteration 202, loss = 0.01316064\n",
            "Iteration 203, loss = 0.01305272\n",
            "Iteration 204, loss = 0.01292789\n",
            "Iteration 205, loss = 0.01286101\n",
            "Iteration 206, loss = 0.01291647\n",
            "Iteration 207, loss = 0.01268304\n",
            "Iteration 208, loss = 0.01279738\n",
            "Iteration 209, loss = 0.01255238\n",
            "Iteration 210, loss = 0.01252475\n",
            "Iteration 211, loss = 0.01240479\n",
            "Iteration 212, loss = 0.01247991\n",
            "Iteration 213, loss = 0.01219937\n",
            "Iteration 214, loss = 0.01223160\n",
            "Iteration 215, loss = 0.01221392\n",
            "Iteration 216, loss = 0.01200824\n",
            "Iteration 217, loss = 0.01192054\n",
            "Iteration 218, loss = 0.01186458\n",
            "Iteration 219, loss = 0.01177952\n",
            "Iteration 220, loss = 0.01176834\n",
            "Iteration 221, loss = 0.01165068\n",
            "Iteration 222, loss = 0.01161677\n",
            "Iteration 223, loss = 0.01149361\n",
            "Iteration 224, loss = 0.01175609\n",
            "Iteration 225, loss = 0.01187955\n",
            "Iteration 226, loss = 0.01147827\n",
            "Iteration 227, loss = 0.01120215\n",
            "Iteration 228, loss = 0.01123971\n",
            "Iteration 229, loss = 0.01128287\n",
            "Iteration 230, loss = 0.01093899\n",
            "Iteration 231, loss = 0.01109925\n",
            "Iteration 232, loss = 0.01095156\n",
            "Iteration 233, loss = 0.01083561\n",
            "Iteration 234, loss = 0.01087393\n",
            "Iteration 235, loss = 0.01081751\n",
            "Iteration 236, loss = 0.01082183\n",
            "Iteration 237, loss = 0.01074855\n",
            "Iteration 238, loss = 0.01056398\n",
            "Iteration 239, loss = 0.01052031\n",
            "Iteration 240, loss = 0.01043008\n",
            "Iteration 241, loss = 0.01045711\n",
            "Iteration 242, loss = 0.01034799\n",
            "Iteration 243, loss = 0.01031880\n",
            "Iteration 244, loss = 0.01023879\n",
            "Iteration 245, loss = 0.01024026\n",
            "Iteration 246, loss = 0.01016470\n",
            "Iteration 247, loss = 0.01008771\n",
            "Iteration 248, loss = 0.01008599\n",
            "Iteration 249, loss = 0.00993089\n",
            "Iteration 250, loss = 0.00994076\n",
            "Iteration 251, loss = 0.00998260\n",
            "Iteration 252, loss = 0.00985173\n",
            "Iteration 253, loss = 0.00989452\n",
            "Iteration 254, loss = 0.00972596\n",
            "Iteration 255, loss = 0.00966420\n",
            "Iteration 256, loss = 0.00961646\n",
            "Iteration 257, loss = 0.00966050\n",
            "Iteration 258, loss = 0.00952117\n",
            "Iteration 259, loss = 0.00948176\n",
            "Iteration 260, loss = 0.00948327\n",
            "Iteration 261, loss = 0.00942306\n",
            "Iteration 262, loss = 0.00937332\n",
            "Iteration 263, loss = 0.00927884\n",
            "Iteration 264, loss = 0.00925058\n",
            "Iteration 265, loss = 0.00927419\n",
            "Iteration 266, loss = 0.00915276\n",
            "Iteration 267, loss = 0.00910876\n",
            "Iteration 268, loss = 0.00912965\n",
            "Iteration 269, loss = 0.00898093\n",
            "Iteration 270, loss = 0.00899806\n",
            "Iteration 271, loss = 0.00902156\n",
            "Iteration 272, loss = 0.00890591\n",
            "Iteration 273, loss = 0.00890986\n",
            "Iteration 274, loss = 0.00890797\n",
            "Iteration 275, loss = 0.00886421\n",
            "Iteration 276, loss = 0.00874950\n",
            "Iteration 277, loss = 0.00883933\n",
            "Iteration 278, loss = 0.00858825\n",
            "Iteration 279, loss = 0.00879760\n",
            "Iteration 280, loss = 0.00857026\n",
            "Iteration 281, loss = 0.00880082\n",
            "Iteration 282, loss = 0.00853911\n",
            "Iteration 283, loss = 0.00871982\n",
            "Iteration 284, loss = 0.00843511\n",
            "Iteration 285, loss = 0.00835580\n",
            "Iteration 286, loss = 0.00830321\n",
            "Iteration 287, loss = 0.00828468\n",
            "Iteration 288, loss = 0.00823140\n",
            "Iteration 289, loss = 0.00821815\n",
            "Iteration 290, loss = 0.00816587\n",
            "Iteration 291, loss = 0.00812713\n",
            "Iteration 292, loss = 0.00812298\n",
            "Iteration 293, loss = 0.00801681\n",
            "Iteration 294, loss = 0.00803763\n",
            "Iteration 295, loss = 0.00811181\n",
            "Iteration 296, loss = 0.00797493\n",
            "Iteration 297, loss = 0.00793449\n",
            "Iteration 298, loss = 0.00789981\n",
            "Iteration 299, loss = 0.00776161\n",
            "Iteration 300, loss = 0.00780790\n",
            "Iteration 301, loss = 0.00773265\n",
            "Iteration 302, loss = 0.00771361\n",
            "Iteration 303, loss = 0.00763361\n",
            "Iteration 304, loss = 0.00776579\n",
            "Iteration 305, loss = 0.00760315\n",
            "Iteration 306, loss = 0.00779161\n",
            "Iteration 307, loss = 0.00762224\n",
            "Iteration 308, loss = 0.00755042\n",
            "Iteration 309, loss = 0.00750165\n",
            "Iteration 310, loss = 0.00744754\n",
            "Iteration 311, loss = 0.00746968\n",
            "Iteration 312, loss = 0.00731514\n",
            "Iteration 313, loss = 0.00734323\n",
            "Iteration 314, loss = 0.00741411\n",
            "Iteration 315, loss = 0.00729349\n",
            "Iteration 316, loss = 0.00722662\n",
            "Iteration 317, loss = 0.00719751\n",
            "Iteration 318, loss = 0.00720530\n",
            "Iteration 319, loss = 0.00716578\n",
            "Iteration 320, loss = 0.00712015\n",
            "Iteration 321, loss = 0.00711009\n",
            "Iteration 322, loss = 0.00706134\n",
            "Iteration 323, loss = 0.00698609\n",
            "Iteration 324, loss = 0.00704097\n",
            "Iteration 325, loss = 0.00699020\n",
            "Iteration 326, loss = 0.00687635\n",
            "Iteration 327, loss = 0.00690249\n",
            "Iteration 328, loss = 0.00685850\n",
            "Iteration 329, loss = 0.00684781\n",
            "Iteration 330, loss = 0.00692075\n",
            "Iteration 331, loss = 0.00679746\n",
            "Iteration 332, loss = 0.00684486\n",
            "Iteration 333, loss = 0.00691667\n",
            "Iteration 334, loss = 0.00670543\n",
            "Iteration 335, loss = 0.00677871\n",
            "Iteration 336, loss = 0.00662193\n",
            "Iteration 337, loss = 0.00663645\n",
            "Iteration 338, loss = 0.00657270\n",
            "Iteration 339, loss = 0.00654961\n",
            "Iteration 340, loss = 0.00655181\n",
            "Iteration 341, loss = 0.00652470\n",
            "Iteration 342, loss = 0.00651471\n",
            "Iteration 343, loss = 0.00639407\n",
            "Iteration 344, loss = 0.00644145\n",
            "Iteration 345, loss = 0.00643663\n",
            "Iteration 346, loss = 0.00644933\n",
            "Iteration 347, loss = 0.00635890\n",
            "Iteration 348, loss = 0.00634690\n",
            "Iteration 349, loss = 0.00629456\n",
            "Iteration 350, loss = 0.00633370\n",
            "Iteration 351, loss = 0.00631049\n",
            "Iteration 352, loss = 0.00624662\n",
            "Iteration 353, loss = 0.00631912\n",
            "Iteration 354, loss = 0.00626503\n",
            "Iteration 355, loss = 0.00614511\n",
            "Iteration 356, loss = 0.00611462\n",
            "Iteration 357, loss = 0.00620019\n",
            "Iteration 358, loss = 0.00611475\n",
            "Iteration 359, loss = 0.00607991\n",
            "Iteration 360, loss = 0.00599930\n",
            "Iteration 361, loss = 0.00596829\n",
            "Iteration 362, loss = 0.00611293\n",
            "Iteration 363, loss = 0.00597305\n",
            "Iteration 364, loss = 0.00595986\n",
            "Iteration 365, loss = 0.00588183\n",
            "Iteration 366, loss = 0.00584288\n",
            "Iteration 367, loss = 0.00590326\n",
            "Iteration 368, loss = 0.00582384\n",
            "Iteration 369, loss = 0.00588549\n",
            "Iteration 370, loss = 0.00581804\n",
            "Iteration 371, loss = 0.00574938\n",
            "Iteration 372, loss = 0.00565376\n",
            "Iteration 373, loss = 0.00570679\n",
            "Iteration 374, loss = 0.00574801\n",
            "Iteration 375, loss = 0.00571390\n",
            "Iteration 376, loss = 0.00560008\n",
            "Iteration 377, loss = 0.00561051\n",
            "Iteration 378, loss = 0.00558799\n",
            "Iteration 379, loss = 0.00559729\n",
            "Iteration 380, loss = 0.00564254\n",
            "Iteration 381, loss = 0.00563034\n",
            "Iteration 382, loss = 0.00552764\n",
            "Iteration 383, loss = 0.00547031\n",
            "Iteration 384, loss = 0.00545956\n",
            "Iteration 385, loss = 0.00541614\n",
            "Iteration 386, loss = 0.00548735\n",
            "Iteration 387, loss = 0.00536773\n",
            "Iteration 388, loss = 0.00536053\n",
            "Iteration 389, loss = 0.00532131\n",
            "Iteration 390, loss = 0.00535846\n",
            "Iteration 391, loss = 0.00536045\n",
            "Iteration 392, loss = 0.00531980\n",
            "Iteration 393, loss = 0.00520550\n",
            "Iteration 394, loss = 0.00534411\n",
            "Iteration 395, loss = 0.00523441\n",
            "Iteration 396, loss = 0.00519355\n",
            "Iteration 397, loss = 0.00520971\n",
            "Iteration 398, loss = 0.00508752\n",
            "Iteration 399, loss = 0.00516852\n",
            "Iteration 400, loss = 0.00510433\n",
            "Iteration 401, loss = 0.00517805\n",
            "Iteration 402, loss = 0.00503997\n",
            "Iteration 403, loss = 0.00533245\n",
            "Iteration 404, loss = 0.00518450\n",
            "Iteration 405, loss = 0.00518804\n",
            "Iteration 406, loss = 0.00497261\n",
            "Iteration 407, loss = 0.00494036\n",
            "Iteration 408, loss = 0.00500289\n",
            "Iteration 409, loss = 0.00506562\n",
            "Iteration 410, loss = 0.00490474\n",
            "Iteration 411, loss = 0.00508850\n",
            "Iteration 412, loss = 0.00508706\n",
            "Iteration 413, loss = 0.00493256\n",
            "Iteration 414, loss = 0.00484851\n",
            "Iteration 415, loss = 0.00485467\n",
            "Iteration 416, loss = 0.00485257\n",
            "Iteration 417, loss = 0.00478119\n",
            "Iteration 418, loss = 0.00476727\n",
            "Iteration 419, loss = 0.00487018\n",
            "Iteration 420, loss = 0.00475894\n",
            "Iteration 421, loss = 0.00485268\n",
            "Iteration 422, loss = 0.00470266\n",
            "Iteration 423, loss = 0.00467439\n",
            "Iteration 424, loss = 0.00467128\n",
            "Iteration 425, loss = 0.00473350\n",
            "Iteration 426, loss = 0.00468845\n",
            "Iteration 427, loss = 0.00479199\n",
            "Iteration 428, loss = 0.00452851\n",
            "Iteration 429, loss = 0.00478087\n",
            "Iteration 430, loss = 0.00461456\n",
            "Iteration 431, loss = 0.00451315\n",
            "Iteration 432, loss = 0.00445253\n",
            "Iteration 433, loss = 0.00447296\n",
            "Iteration 434, loss = 0.00457771\n",
            "Iteration 435, loss = 0.00444551\n",
            "Iteration 436, loss = 0.00444533\n",
            "Iteration 437, loss = 0.00448279\n",
            "Iteration 438, loss = 0.00438638\n",
            "Iteration 439, loss = 0.00441603\n",
            "Iteration 440, loss = 0.00441228\n",
            "Iteration 441, loss = 0.00445700\n",
            "Iteration 442, loss = 0.00436413\n",
            "Iteration 443, loss = 0.00438735\n",
            "Iteration 444, loss = 0.00425898\n",
            "Iteration 445, loss = 0.00444932\n",
            "Iteration 446, loss = 0.00438476\n",
            "Iteration 447, loss = 0.00422966\n",
            "Iteration 448, loss = 0.00429435\n",
            "Iteration 449, loss = 0.00433354\n",
            "Iteration 450, loss = 0.00451758\n",
            "Iteration 451, loss = 0.00418392\n",
            "Iteration 452, loss = 0.00422306\n",
            "Iteration 453, loss = 0.00416887\n",
            "Iteration 454, loss = 0.00409055\n",
            "Iteration 455, loss = 0.00409875\n",
            "Iteration 456, loss = 0.00427530\n",
            "Iteration 457, loss = 0.00416366\n",
            "Iteration 458, loss = 0.00410198\n",
            "Iteration 459, loss = 0.00403206\n",
            "Iteration 460, loss = 0.00401753\n",
            "Iteration 461, loss = 0.00405213\n",
            "Iteration 462, loss = 0.00404051\n",
            "Iteration 463, loss = 0.00408668\n",
            "Iteration 464, loss = 0.00404341\n",
            "Iteration 465, loss = 0.00406415\n",
            "Iteration 466, loss = 0.00399102\n",
            "Iteration 467, loss = 0.00390870\n",
            "Iteration 468, loss = 0.00391168\n",
            "Iteration 469, loss = 0.00391259\n",
            "Iteration 470, loss = 0.00399910\n",
            "Iteration 471, loss = 0.00391507\n",
            "Iteration 472, loss = 0.00387344\n",
            "Iteration 473, loss = 0.00382631\n",
            "Iteration 474, loss = 0.00385913\n",
            "Iteration 475, loss = 0.00385152\n",
            "Iteration 476, loss = 0.00380252\n",
            "Iteration 477, loss = 0.00383967\n",
            "Iteration 478, loss = 0.00375521\n",
            "Iteration 479, loss = 0.00379654\n",
            "Iteration 480, loss = 0.00379104\n",
            "Iteration 481, loss = 0.00378063\n",
            "Iteration 482, loss = 0.00383462\n",
            "Iteration 483, loss = 0.00383179\n",
            "Iteration 484, loss = 0.00375138\n",
            "Iteration 485, loss = 0.00368026\n",
            "Iteration 486, loss = 0.00370297\n",
            "Iteration 487, loss = 0.00363420\n",
            "Iteration 488, loss = 0.00376505\n",
            "Iteration 489, loss = 0.00365132\n",
            "Iteration 490, loss = 0.00363777\n",
            "Iteration 491, loss = 0.00364778\n",
            "Iteration 492, loss = 0.00355992\n",
            "Iteration 493, loss = 0.00358224\n",
            "Iteration 494, loss = 0.00354859\n",
            "Iteration 495, loss = 0.00354144\n",
            "Iteration 496, loss = 0.00353673\n",
            "Iteration 497, loss = 0.00357390\n",
            "Iteration 498, loss = 0.00352343\n",
            "Iteration 499, loss = 0.00357037\n",
            "Iteration 500, loss = 0.00353308\n",
            "Iteration 501, loss = 0.00353400\n",
            "Iteration 502, loss = 0.00347854\n",
            "Iteration 503, loss = 0.00337420\n",
            "Iteration 504, loss = 0.00350393\n",
            "Iteration 505, loss = 0.00340373\n",
            "Iteration 506, loss = 0.00340594\n",
            "Iteration 507, loss = 0.00345054\n",
            "Iteration 508, loss = 0.00334596\n",
            "Iteration 509, loss = 0.00341568\n",
            "Iteration 510, loss = 0.00335732\n",
            "Iteration 511, loss = 0.00338157\n",
            "Iteration 512, loss = 0.00334444\n",
            "Iteration 513, loss = 0.00334325\n",
            "Iteration 514, loss = 0.00328604\n",
            "Iteration 515, loss = 0.00333607\n",
            "Iteration 516, loss = 0.00327607\n",
            "Iteration 517, loss = 0.00327704\n",
            "Iteration 518, loss = 0.00331456\n",
            "Iteration 519, loss = 0.00325705\n",
            "Iteration 520, loss = 0.00329607\n",
            "Iteration 521, loss = 0.00338251\n",
            "Iteration 522, loss = 0.00331171\n",
            "Iteration 523, loss = 0.00317954\n",
            "Iteration 524, loss = 0.00318591\n",
            "Iteration 525, loss = 0.00320805\n",
            "Iteration 526, loss = 0.00314866\n",
            "Iteration 527, loss = 0.00319509\n",
            "Iteration 528, loss = 0.00320406\n",
            "Iteration 529, loss = 0.00318008\n",
            "Iteration 530, loss = 0.00317056\n",
            "Iteration 531, loss = 0.00307532\n",
            "Iteration 532, loss = 0.00317435\n",
            "Iteration 533, loss = 0.00302833\n",
            "Iteration 534, loss = 0.00316438\n",
            "Iteration 535, loss = 0.00308668\n",
            "Iteration 536, loss = 0.00309083\n",
            "Iteration 537, loss = 0.00309257\n",
            "Iteration 538, loss = 0.00319780\n",
            "Iteration 539, loss = 0.00300166\n",
            "Iteration 540, loss = 0.00304416\n",
            "Iteration 541, loss = 0.00300229\n",
            "Iteration 542, loss = 0.00305763\n",
            "Iteration 543, loss = 0.00304228\n",
            "Iteration 544, loss = 0.00295302\n",
            "Iteration 545, loss = 0.00292833\n",
            "Iteration 546, loss = 0.00291994\n",
            "Iteration 547, loss = 0.00292301\n",
            "Iteration 548, loss = 0.00291439\n",
            "Iteration 549, loss = 0.00299819\n",
            "Iteration 550, loss = 0.00284629\n",
            "Iteration 551, loss = 0.00290715\n",
            "Iteration 552, loss = 0.00290420\n",
            "Iteration 553, loss = 0.00293136\n",
            "Iteration 554, loss = 0.00282865\n",
            "Iteration 555, loss = 0.00285340\n",
            "Iteration 556, loss = 0.00285374\n",
            "Iteration 557, loss = 0.00289412\n",
            "Iteration 558, loss = 0.00293834\n",
            "Iteration 559, loss = 0.00281718\n",
            "Iteration 560, loss = 0.00281867\n",
            "Iteration 561, loss = 0.00282053\n",
            "Iteration 562, loss = 0.00289240\n",
            "Iteration 563, loss = 0.00293365\n",
            "Iteration 564, loss = 0.00286420\n",
            "Iteration 565, loss = 0.00276917\n",
            "Iteration 566, loss = 0.00282326\n",
            "Iteration 567, loss = 0.00271066\n",
            "Iteration 568, loss = 0.00277106\n",
            "Iteration 569, loss = 0.00278560\n",
            "Iteration 570, loss = 0.00280895\n",
            "Iteration 571, loss = 0.00277696\n",
            "Iteration 572, loss = 0.00268886\n",
            "Iteration 573, loss = 0.00272377\n",
            "Iteration 574, loss = 0.00274478\n",
            "Iteration 575, loss = 0.00263296\n",
            "Iteration 576, loss = 0.00268591\n",
            "Iteration 577, loss = 0.00277873\n",
            "Iteration 578, loss = 0.00269806\n",
            "Iteration 579, loss = 0.00258626\n",
            "Iteration 580, loss = 0.00261225\n",
            "Iteration 581, loss = 0.00267659\n",
            "Iteration 582, loss = 0.00277693\n",
            "Iteration 583, loss = 0.00257188\n",
            "Iteration 584, loss = 0.00262725\n",
            "Iteration 585, loss = 0.00260788\n",
            "Iteration 586, loss = 0.00269750\n",
            "Iteration 587, loss = 0.00257507\n",
            "Iteration 588, loss = 0.00258505\n",
            "Iteration 589, loss = 0.00256644\n",
            "Iteration 590, loss = 0.00256612\n",
            "Iteration 591, loss = 0.00259443\n",
            "Iteration 592, loss = 0.00250203\n",
            "Iteration 593, loss = 0.00255389\n",
            "Iteration 594, loss = 0.00248963\n",
            "Iteration 595, loss = 0.00254717\n",
            "Iteration 596, loss = 0.00263493\n",
            "Iteration 597, loss = 0.00250001\n",
            "Iteration 598, loss = 0.00242587\n",
            "Iteration 599, loss = 0.00251811\n",
            "Iteration 600, loss = 0.00245208\n",
            "Iteration 601, loss = 0.00241531\n",
            "Iteration 602, loss = 0.00241379\n",
            "Iteration 603, loss = 0.00240095\n",
            "Iteration 604, loss = 0.00241413\n",
            "Iteration 605, loss = 0.00238812\n",
            "Iteration 606, loss = 0.00240259\n",
            "Iteration 607, loss = 0.00242282\n",
            "Iteration 608, loss = 0.00239929\n",
            "Iteration 609, loss = 0.00239572\n",
            "Iteration 610, loss = 0.00235255\n",
            "Iteration 611, loss = 0.00236479\n",
            "Iteration 612, loss = 0.00233850\n",
            "Iteration 613, loss = 0.00232980\n",
            "Iteration 614, loss = 0.00230908\n",
            "Iteration 615, loss = 0.00238734\n",
            "Iteration 616, loss = 0.00228527\n",
            "Iteration 617, loss = 0.00237469\n",
            "Iteration 618, loss = 0.00230579\n",
            "Iteration 619, loss = 0.00233597\n",
            "Iteration 620, loss = 0.00233202\n",
            "Iteration 621, loss = 0.00238632\n",
            "Iteration 622, loss = 0.00228517\n",
            "Iteration 623, loss = 0.00228481\n",
            "Iteration 624, loss = 0.00227598\n",
            "Iteration 625, loss = 0.00237467\n",
            "Iteration 626, loss = 0.00224359\n",
            "Iteration 627, loss = 0.00229403\n",
            "Iteration 628, loss = 0.00222601\n",
            "Iteration 629, loss = 0.00225191\n",
            "Iteration 630, loss = 0.00220744\n",
            "Iteration 631, loss = 0.00225767\n",
            "Iteration 632, loss = 0.00229545\n",
            "Iteration 633, loss = 0.00221979\n",
            "Iteration 634, loss = 0.00222058\n",
            "Iteration 635, loss = 0.00214025\n",
            "Iteration 636, loss = 0.00214219\n",
            "Iteration 637, loss = 0.00227631\n",
            "Iteration 638, loss = 0.00231465\n",
            "Iteration 639, loss = 0.00225847\n",
            "Iteration 640, loss = 0.00219381\n",
            "Iteration 641, loss = 0.00210523\n",
            "Iteration 642, loss = 0.00213102\n",
            "Iteration 643, loss = 0.00208961\n",
            "Iteration 644, loss = 0.00207664\n",
            "Iteration 645, loss = 0.00211626\n",
            "Iteration 646, loss = 0.00206271\n",
            "Iteration 647, loss = 0.00209466\n",
            "Iteration 648, loss = 0.00210346\n",
            "Iteration 649, loss = 0.00205022\n",
            "Iteration 650, loss = 0.00208952\n",
            "Iteration 651, loss = 0.00201851\n",
            "Iteration 652, loss = 0.00210533\n",
            "Iteration 653, loss = 0.00210497\n",
            "Iteration 654, loss = 0.00208530\n",
            "Iteration 655, loss = 0.00204610\n",
            "Iteration 656, loss = 0.00199292\n",
            "Iteration 657, loss = 0.00200663\n",
            "Iteration 658, loss = 0.00200686\n",
            "Iteration 659, loss = 0.00198574\n",
            "Iteration 660, loss = 0.00199178\n",
            "Iteration 661, loss = 0.00202362\n",
            "Iteration 662, loss = 0.00201502\n",
            "Iteration 663, loss = 0.00200439\n",
            "Iteration 664, loss = 0.00197473\n",
            "Iteration 665, loss = 0.00199560\n",
            "Iteration 666, loss = 0.00194752\n",
            "Iteration 667, loss = 0.00194305\n",
            "Iteration 668, loss = 0.00191696\n",
            "Iteration 669, loss = 0.00193916\n",
            "Iteration 670, loss = 0.00193115\n",
            "Iteration 671, loss = 0.00201192\n",
            "Iteration 672, loss = 0.00191226\n",
            "Iteration 673, loss = 0.00209866\n",
            "Iteration 674, loss = 0.00189452\n",
            "Iteration 675, loss = 0.00196694\n",
            "Iteration 676, loss = 0.00190161\n",
            "Iteration 677, loss = 0.00190301\n",
            "Iteration 678, loss = 0.00190745\n",
            "Iteration 679, loss = 0.00183353\n",
            "Iteration 680, loss = 0.00193214\n",
            "Iteration 681, loss = 0.00183138\n",
            "Iteration 682, loss = 0.00198150\n",
            "Iteration 683, loss = 0.00198880\n",
            "Iteration 684, loss = 0.00183630\n",
            "Iteration 685, loss = 0.00183995\n",
            "Iteration 686, loss = 0.00183866\n",
            "Iteration 687, loss = 0.00182082\n",
            "Iteration 688, loss = 0.00177923\n",
            "Iteration 689, loss = 0.00179802\n",
            "Iteration 690, loss = 0.00179467\n",
            "Iteration 691, loss = 0.00179935\n",
            "Iteration 692, loss = 0.00182994\n",
            "Iteration 693, loss = 0.00182128\n",
            "Iteration 694, loss = 0.00187061\n",
            "Iteration 695, loss = 0.00180927\n",
            "Iteration 696, loss = 0.00199875\n",
            "Iteration 697, loss = 0.00180380\n",
            "Iteration 698, loss = 0.00187968\n",
            "Iteration 699, loss = 0.00199574\n",
            "Training loss did not improve more than tol=0.000010 for 10 consecutive epochs. Stopping.\n"
          ]
        },
        {
          "data": {
            "text/plain": [
              "MLPClassifier(hidden_layer_sizes=(20, 20), max_iter=1500, tol=1e-05,\n",
              "              verbose=True)"
            ]
          },
          "execution_count": 303,
          "metadata": {},
          "output_type": "execute_result"
        }
      ],
      "source": [
        "rede_neural_credit = MLPClassifier(max_iter=1500, verbose=True, tol=0.0000100,\n",
        "                                   solver = 'adam', activation = 'relu',\n",
        "                                   hidden_layer_sizes = (20,20))\n",
        "rede_neural_credit.fit(X_credit_treinamento, y_credit_treinamento)"
      ]
    },
    {
      "cell_type": "markdown",
      "metadata": {
        "id": "foQGPam1hrwG"
      },
      "source": [
        "## Teste da Rede Neural"
      ]
    },
    {
      "cell_type": "code",
      "execution_count": null,
      "metadata": {
        "colab": {
          "base_uri": "https://localhost:8080/"
        },
        "id": "Bmn64K7vqzx1",
        "outputId": "f2470659-baf2-4888-a344-2738f35894fa"
      },
      "outputs": [
        {
          "data": {
            "text/plain": [
              "array([1, 0, 0, 0, 0, 0, 0, 0, 0, 0, 0, 0, 0, 0, 0, 0, 1, 0, 0, 1, 0, 0,\n",
              "       0, 0, 0, 0, 0, 0, 0, 0, 0, 0, 0, 0, 0, 1, 1, 0, 0, 0, 0, 0, 0, 0,\n",
              "       0, 1, 1, 0, 1, 0, 0, 0, 0, 0, 0, 0, 0, 0, 0, 1, 0, 0, 0, 1, 0, 0,\n",
              "       0, 0, 0, 1, 0, 0, 1, 0, 0, 1, 0, 0, 1, 0, 0, 0, 0, 0, 0, 0, 1, 0,\n",
              "       0, 0, 0, 0, 0, 0, 0, 0, 0, 0, 0, 0, 0, 0, 0, 1, 0, 0, 1, 0, 0, 1,\n",
              "       0, 0, 1, 0, 0, 0, 0, 0, 0, 0, 0, 0, 0, 0, 0, 0, 0, 0, 0, 0, 0, 1,\n",
              "       0, 0, 0, 0, 0, 0, 0, 0, 0, 0, 0, 0, 1, 0, 0, 0, 0, 0, 0, 0, 1, 0,\n",
              "       0, 0, 0, 0, 0, 0, 0, 0, 0, 0, 0, 1, 0, 0, 0, 1, 0, 0, 0, 0, 0, 0,\n",
              "       0, 1, 0, 0, 0, 0, 0, 1, 0, 0, 0, 1, 0, 0, 0, 0, 1, 0, 0, 0, 0, 0,\n",
              "       0, 0, 0, 0, 0, 0, 0, 0, 1, 1, 0, 1, 0, 0, 0, 0, 0, 0, 0, 0, 0, 0,\n",
              "       1, 0, 0, 0, 0, 0, 0, 0, 0, 1, 0, 0, 0, 0, 0, 0, 0, 0, 0, 0, 0, 0,\n",
              "       0, 1, 1, 0, 1, 1, 0, 0, 0, 0, 0, 0, 0, 0, 0, 0, 1, 0, 1, 0, 0, 0,\n",
              "       0, 0, 0, 0, 0, 0, 0, 0, 0, 0, 0, 0, 0, 0, 0, 0, 0, 0, 0, 0, 0, 0,\n",
              "       0, 0, 0, 0, 0, 0, 0, 0, 0, 0, 1, 0, 0, 0, 0, 0, 0, 0, 1, 0, 0, 0,\n",
              "       0, 0, 1, 1, 0, 0, 0, 1, 0, 0, 0, 0, 0, 1, 0, 0, 0, 0, 0, 1, 0, 0,\n",
              "       0, 0, 0, 0, 0, 1, 0, 0, 0, 0, 0, 0, 1, 0, 0, 0, 0, 0, 0, 1, 0, 0,\n",
              "       0, 0, 0, 1, 0, 0, 0, 0, 0, 0, 0, 0, 0, 0, 0, 0, 0, 0, 0, 0, 0, 0,\n",
              "       0, 0, 0, 0, 1, 0, 0, 0, 0, 0, 0, 0, 1, 0, 0, 0, 0, 0, 0, 0, 0, 0,\n",
              "       0, 0, 0, 0, 1, 0, 0, 0, 0, 0, 0, 0, 0, 0, 1, 0, 0, 0, 0, 0, 0, 0,\n",
              "       0, 0, 0, 0, 0, 0, 0, 0, 0, 0, 0, 0, 0, 1, 0, 0, 0, 0, 0, 0, 0, 0,\n",
              "       0, 1, 0, 0, 1, 0, 0, 0, 0, 0, 0, 0, 1, 0, 0, 0, 0, 0, 0, 0, 0, 0,\n",
              "       0, 0, 1, 0, 0, 0, 0, 0, 0, 0, 0, 0, 0, 0, 0, 1, 0, 0, 0, 0, 0, 0,\n",
              "       0, 0, 1, 0, 0, 0, 1, 0, 0, 0, 0, 0, 0, 0, 1, 1])"
            ]
          },
          "execution_count": 304,
          "metadata": {},
          "output_type": "execute_result"
        }
      ],
      "source": [
        "previsoes = rede_neural_credit.predict(X_credit_teste)\n",
        "previsoes"
      ]
    },
    {
      "cell_type": "code",
      "execution_count": null,
      "metadata": {
        "colab": {
          "base_uri": "https://localhost:8080/"
        },
        "id": "AzFRj9riq9gc",
        "outputId": "7aec0086-4ed8-4b3f-c2f8-78b640691b0d"
      },
      "outputs": [
        {
          "data": {
            "text/plain": [
              "array([1, 0, 0, 0, 0, 0, 0, 0, 0, 0, 0, 0, 0, 0, 0, 0, 1, 0, 0, 1, 0, 0,\n",
              "       0, 0, 0, 0, 0, 0, 0, 0, 0, 0, 0, 0, 0, 1, 1, 0, 0, 0, 0, 0, 0, 0,\n",
              "       0, 1, 1, 0, 1, 0, 0, 0, 0, 0, 0, 0, 0, 0, 0, 1, 0, 0, 0, 1, 0, 0,\n",
              "       0, 0, 0, 1, 0, 0, 1, 0, 0, 1, 0, 0, 1, 0, 0, 0, 0, 0, 0, 0, 1, 0,\n",
              "       0, 0, 0, 0, 0, 0, 0, 0, 0, 0, 0, 0, 0, 0, 0, 1, 0, 0, 0, 0, 0, 1,\n",
              "       0, 0, 1, 0, 0, 0, 0, 0, 0, 0, 0, 0, 0, 0, 0, 0, 0, 0, 0, 0, 0, 1,\n",
              "       0, 0, 0, 0, 0, 0, 0, 0, 0, 0, 0, 0, 1, 0, 0, 0, 0, 0, 0, 0, 1, 0,\n",
              "       0, 0, 0, 0, 0, 0, 0, 0, 0, 0, 0, 1, 0, 0, 0, 1, 0, 0, 0, 0, 0, 0,\n",
              "       0, 1, 0, 0, 0, 0, 0, 1, 0, 0, 0, 1, 1, 0, 0, 0, 1, 0, 0, 0, 0, 0,\n",
              "       0, 0, 0, 0, 0, 0, 0, 0, 1, 1, 0, 1, 0, 0, 0, 0, 0, 0, 0, 0, 0, 0,\n",
              "       1, 0, 0, 0, 0, 0, 0, 0, 0, 1, 0, 0, 0, 0, 0, 0, 0, 0, 0, 0, 0, 0,\n",
              "       0, 1, 1, 0, 1, 1, 0, 0, 0, 0, 0, 0, 0, 0, 0, 0, 1, 0, 1, 0, 0, 0,\n",
              "       0, 0, 0, 0, 0, 0, 0, 0, 0, 0, 0, 0, 0, 0, 0, 0, 0, 0, 0, 0, 0, 0,\n",
              "       0, 0, 0, 0, 0, 0, 0, 0, 0, 0, 1, 0, 0, 0, 0, 0, 0, 0, 1, 0, 0, 0,\n",
              "       0, 0, 1, 1, 0, 0, 0, 1, 0, 0, 0, 0, 0, 1, 0, 0, 0, 0, 0, 1, 0, 0,\n",
              "       0, 0, 0, 0, 0, 1, 0, 0, 0, 0, 0, 0, 1, 0, 0, 0, 0, 0, 0, 1, 0, 0,\n",
              "       0, 0, 0, 1, 0, 0, 0, 0, 0, 0, 0, 0, 0, 0, 0, 0, 0, 0, 0, 0, 0, 0,\n",
              "       0, 0, 0, 0, 1, 0, 0, 0, 0, 0, 0, 0, 1, 0, 0, 0, 0, 0, 0, 0, 0, 0,\n",
              "       0, 0, 0, 0, 1, 0, 0, 0, 0, 0, 0, 0, 0, 0, 1, 0, 0, 0, 0, 0, 0, 0,\n",
              "       0, 0, 0, 0, 0, 0, 0, 0, 0, 0, 0, 0, 0, 1, 0, 0, 0, 0, 0, 0, 0, 0,\n",
              "       0, 1, 0, 0, 1, 0, 0, 0, 0, 0, 0, 0, 1, 0, 0, 0, 0, 0, 0, 0, 0, 0,\n",
              "       0, 0, 1, 0, 0, 0, 0, 0, 0, 0, 0, 0, 0, 0, 0, 1, 0, 0, 0, 0, 0, 0,\n",
              "       0, 0, 1, 0, 0, 0, 1, 0, 0, 0, 0, 0, 0, 0, 1, 1])"
            ]
          },
          "execution_count": 305,
          "metadata": {},
          "output_type": "execute_result"
        }
      ],
      "source": [
        "y_credit_teste"
      ]
    },
    {
      "cell_type": "markdown",
      "source": [
        "## Avaliação da Rede Neural"
      ],
      "metadata": {
        "id": "1yzOlNNxDOAY"
      }
    },
    {
      "cell_type": "code",
      "execution_count": null,
      "metadata": {
        "colab": {
          "base_uri": "https://localhost:8080/"
        },
        "id": "4vRZgbSerBNW",
        "outputId": "27263d4c-5ff6-44f1-eb1c-21b7c57ac893"
      },
      "outputs": [
        {
          "data": {
            "text/plain": [
              "0.996"
            ]
          },
          "execution_count": 306,
          "metadata": {},
          "output_type": "execute_result"
        }
      ],
      "source": [
        "from sklearn.metrics import accuracy_score, classification_report\n",
        "accuracy_score(y_credit_teste, previsoes)"
      ]
    },
    {
      "cell_type": "code",
      "execution_count": null,
      "metadata": {
        "colab": {
          "base_uri": "https://localhost:8080/",
          "height": 361
        },
        "id": "XwtALw-Mronz",
        "outputId": "cdf4d1b0-486b-4d3e-ab90-817aee4269e4"
      },
      "outputs": [
        {
          "data": {
            "text/plain": [
              "0.996"
            ]
          },
          "execution_count": 307,
          "metadata": {},
          "output_type": "execute_result"
        },
        {
          "data": {
            "image/png": "[encoded data removed]",
            "text/plain": [
              "<Figure size 576x396 with 1 Axes>"
            ]
          },
          "metadata": {},
          "output_type": "display_data"
        }
      ],
      "source": [
        "from yellowbrick.classifier import ConfusionMatrix\n",
        "cm = ConfusionMatrix(rede_neural_credit)\n",
        "cm.fit(X_credit_treinamento, y_credit_treinamento)\n",
        "cm.score(X_credit_teste, y_credit_teste)"
      ]
    },
    {
      "cell_type": "code",
      "execution_count": null,
      "metadata": {
        "colab": {
          "base_uri": "https://localhost:8080/"
        },
        "id": "rWj1N8ANsYrI",
        "outputId": "e50c8c22-a459-4886-efb1-10f98ebd09ea"
      },
      "outputs": [
        {
          "name": "stdout",
          "output_type": "stream",
          "text": [
            "              precision    recall  f1-score   support\n",
            "\n",
            "           0       1.00      1.00      1.00       436\n",
            "           1       0.98      0.98      0.98        64\n",
            "\n",
            "    accuracy                           1.00       500\n",
            "   macro avg       0.99      0.99      0.99       500\n",
            "weighted avg       1.00      1.00      1.00       500\n",
            "\n"
          ]
        }
      ],
      "source": [
        "print(classification_report(y_credit_teste, previsoes))"
      ]
    }
  ],
  "metadata": {
    "colab": {
      "collapsed_sections": [
        "9JL8G9jQXTLF",
        "JpDM1Er1obkO",
        "cOSLRdDEsWFx",
        "S_jbxLwqu4fQ",
        "g-23aN-nkDQ7",
        "zr9S1fZXRQhg",
        "2GpcvTQauTVx",
        "QGapZ37jkPAn",
        "K2K3Wu8Q4e0E",
        "mHg2BXJR4hpi",
        "bdNbsNLFkWop",
        "q_KOjDv47-IV",
        "zAecbXOi8AzA",
        "Oi9qbert8aMv",
        "L0FGtQLrnN-0",
        "lmXN77tcnP2v",
        "lnC-s4bLnRmt",
        "PfnUWv8SU7ST",
        "TOCiDpHFU90w",
        "ZO-c0InojFK5",
        "0bLyVMFrjGzm",
        "h8ZVuJ-VDE8h",
        "SN9q4qQiDIsi",
        "0v5iHxzcNPNK",
        "e6tDYDLUNUWH"
      ],
      "provenance": [],
      "include_colab_link": true
    },
    "kernelspec": {
      "display_name": "Python 3",
      "name": "python3"
    },
    "language_info": {
      "name": "python"
    }
  },
  "nbformat": 4,
  "nbformat_minor": 0
}